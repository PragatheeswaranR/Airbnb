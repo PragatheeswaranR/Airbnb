{
 "cells": [
  {
   "cell_type": "code",
   "execution_count": 81,
   "metadata": {},
   "outputs": [],
   "source": [
    "import numpy as np\n",
    "import pandas as pd\n",
    "import matplotlib.pyplot as plt\n",
    "import seaborn as sns\n",
    "\n",
    "import warnings\n",
    "warnings.filterwarnings('ignore')\n",
    "pd.set_option('max_columns',200)"
   ]
  },
  {
   "cell_type": "code",
   "execution_count": 82,
   "metadata": {},
   "outputs": [],
   "source": [
    "df = pd.read_csv('final_sentiment_csv.csv')"
   ]
  },
  {
   "cell_type": "code",
   "execution_count": 83,
   "metadata": {},
   "outputs": [
    {
     "data": {
      "text/html": [
       "<div>\n",
       "<style scoped>\n",
       "    .dataframe tbody tr th:only-of-type {\n",
       "        vertical-align: middle;\n",
       "    }\n",
       "\n",
       "    .dataframe tbody tr th {\n",
       "        vertical-align: top;\n",
       "    }\n",
       "\n",
       "    .dataframe thead th {\n",
       "        text-align: right;\n",
       "    }\n",
       "</style>\n",
       "<table border=\"1\" class=\"dataframe\">\n",
       "  <thead>\n",
       "    <tr style=\"text-align: right;\">\n",
       "      <th></th>\n",
       "      <th>Unnamed: 0</th>\n",
       "      <th>listing_id</th>\n",
       "      <th>host_response_time</th>\n",
       "      <th>host_response_rate</th>\n",
       "      <th>host_is_superhost</th>\n",
       "      <th>host_total_listings_count</th>\n",
       "      <th>host_verifications</th>\n",
       "      <th>host_has_profile_pic</th>\n",
       "      <th>host_identity_verified</th>\n",
       "      <th>is_location_exact</th>\n",
       "      <th>property_type</th>\n",
       "      <th>room_type</th>\n",
       "      <th>accommodates</th>\n",
       "      <th>bathrooms</th>\n",
       "      <th>bedrooms</th>\n",
       "      <th>beds</th>\n",
       "      <th>bed_type</th>\n",
       "      <th>amenities</th>\n",
       "      <th>price</th>\n",
       "      <th>security_deposit</th>\n",
       "      <th>cleaning_fee</th>\n",
       "      <th>guests_included</th>\n",
       "      <th>extra_people</th>\n",
       "      <th>minimum_nights</th>\n",
       "      <th>maximum_nights</th>\n",
       "      <th>minimum_minimum_nights</th>\n",
       "      <th>maximum_minimum_nights</th>\n",
       "      <th>minimum_maximum_nights</th>\n",
       "      <th>maximum_maximum_nights</th>\n",
       "      <th>minimum_nights_avg_ntm</th>\n",
       "      <th>maximum_nights_avg_ntm</th>\n",
       "      <th>availability_30</th>\n",
       "      <th>availability_60</th>\n",
       "      <th>availability_90</th>\n",
       "      <th>availability_365</th>\n",
       "      <th>number_of_reviews</th>\n",
       "      <th>number_of_reviews_ltm</th>\n",
       "      <th>review_scores_rating</th>\n",
       "      <th>review_scores_accuracy</th>\n",
       "      <th>review_scores_cleanliness</th>\n",
       "      <th>review_scores_checkin</th>\n",
       "      <th>review_scores_communication</th>\n",
       "      <th>review_scores_location</th>\n",
       "      <th>review_scores_value</th>\n",
       "      <th>instant_bookable</th>\n",
       "      <th>cancellation_policy</th>\n",
       "      <th>require_guest_profile_picture</th>\n",
       "      <th>require_guest_phone_verification</th>\n",
       "      <th>calculated_host_listings_count</th>\n",
       "      <th>calculated_host_listings_count_entire_homes</th>\n",
       "      <th>calculated_host_listings_count_private_rooms</th>\n",
       "      <th>calculated_host_listings_count_shared_rooms</th>\n",
       "      <th>reviews_per_month</th>\n",
       "      <th>log_price</th>\n",
       "      <th>sentiment_polarity</th>\n",
       "      <th>sentiment_sub</th>\n",
       "    </tr>\n",
       "  </thead>\n",
       "  <tbody>\n",
       "    <tr>\n",
       "      <td>0</td>\n",
       "      <td>0</td>\n",
       "      <td>18666</td>\n",
       "      <td>3</td>\n",
       "      <td>95.0</td>\n",
       "      <td>0.0</td>\n",
       "      <td>47.0</td>\n",
       "      <td>5.0</td>\n",
       "      <td>1.0</td>\n",
       "      <td>1.0</td>\n",
       "      <td>1.0</td>\n",
       "      <td>1</td>\n",
       "      <td>0</td>\n",
       "      <td>6.0</td>\n",
       "      <td>2</td>\n",
       "      <td>2</td>\n",
       "      <td>4</td>\n",
       "      <td>4</td>\n",
       "      <td>18.0</td>\n",
       "      <td>130.0</td>\n",
       "      <td>150.000000</td>\n",
       "      <td>42.000000</td>\n",
       "      <td>2.0</td>\n",
       "      <td>25.0</td>\n",
       "      <td>3.0</td>\n",
       "      <td>730.0</td>\n",
       "      <td>3.0</td>\n",
       "      <td>3.0</td>\n",
       "      <td>730.0</td>\n",
       "      <td>730.0</td>\n",
       "      <td>3.0</td>\n",
       "      <td>730.0</td>\n",
       "      <td>0.0</td>\n",
       "      <td>0.0</td>\n",
       "      <td>0.0</td>\n",
       "      <td>251.0</td>\n",
       "      <td>1.0</td>\n",
       "      <td>0.0</td>\n",
       "      <td>80.0</td>\n",
       "      <td>10.0</td>\n",
       "      <td>10.0</td>\n",
       "      <td>2.0</td>\n",
       "      <td>10.0</td>\n",
       "      <td>10.0</td>\n",
       "      <td>8.0</td>\n",
       "      <td>0.0</td>\n",
       "      <td>0</td>\n",
       "      <td>0.0</td>\n",
       "      <td>0.0</td>\n",
       "      <td>31.0</td>\n",
       "      <td>31.0</td>\n",
       "      <td>0.0</td>\n",
       "      <td>0.0</td>\n",
       "      <td>0.02</td>\n",
       "      <td>4.867534</td>\n",
       "      <td>0.359583</td>\n",
       "      <td>0.539583</td>\n",
       "    </tr>\n",
       "    <tr>\n",
       "      <td>1</td>\n",
       "      <td>1</td>\n",
       "      <td>18674</td>\n",
       "      <td>3</td>\n",
       "      <td>95.0</td>\n",
       "      <td>0.0</td>\n",
       "      <td>47.0</td>\n",
       "      <td>5.0</td>\n",
       "      <td>1.0</td>\n",
       "      <td>1.0</td>\n",
       "      <td>1.0</td>\n",
       "      <td>1</td>\n",
       "      <td>0</td>\n",
       "      <td>8.0</td>\n",
       "      <td>4</td>\n",
       "      <td>3</td>\n",
       "      <td>6</td>\n",
       "      <td>4</td>\n",
       "      <td>22.0</td>\n",
       "      <td>60.0</td>\n",
       "      <td>150.000000</td>\n",
       "      <td>50.000000</td>\n",
       "      <td>2.0</td>\n",
       "      <td>30.0</td>\n",
       "      <td>1.0</td>\n",
       "      <td>1125.0</td>\n",
       "      <td>1.0</td>\n",
       "      <td>5.0</td>\n",
       "      <td>1125.0</td>\n",
       "      <td>1125.0</td>\n",
       "      <td>1.9</td>\n",
       "      <td>1125.0</td>\n",
       "      <td>13.0</td>\n",
       "      <td>31.0</td>\n",
       "      <td>43.0</td>\n",
       "      <td>52.0</td>\n",
       "      <td>16.0</td>\n",
       "      <td>11.0</td>\n",
       "      <td>85.0</td>\n",
       "      <td>9.0</td>\n",
       "      <td>9.0</td>\n",
       "      <td>9.0</td>\n",
       "      <td>10.0</td>\n",
       "      <td>9.0</td>\n",
       "      <td>8.0</td>\n",
       "      <td>1.0</td>\n",
       "      <td>3</td>\n",
       "      <td>0.0</td>\n",
       "      <td>0.0</td>\n",
       "      <td>31.0</td>\n",
       "      <td>31.0</td>\n",
       "      <td>0.0</td>\n",
       "      <td>0.0</td>\n",
       "      <td>0.21</td>\n",
       "      <td>4.094345</td>\n",
       "      <td>0.225551</td>\n",
       "      <td>0.526540</td>\n",
       "    </tr>\n",
       "    <tr>\n",
       "      <td>2</td>\n",
       "      <td>2</td>\n",
       "      <td>21605</td>\n",
       "      <td>2</td>\n",
       "      <td>100.0</td>\n",
       "      <td>0.0</td>\n",
       "      <td>2.0</td>\n",
       "      <td>6.0</td>\n",
       "      <td>1.0</td>\n",
       "      <td>1.0</td>\n",
       "      <td>1.0</td>\n",
       "      <td>1</td>\n",
       "      <td>2</td>\n",
       "      <td>2.0</td>\n",
       "      <td>2</td>\n",
       "      <td>1</td>\n",
       "      <td>1</td>\n",
       "      <td>4</td>\n",
       "      <td>41.0</td>\n",
       "      <td>33.0</td>\n",
       "      <td>100.000000</td>\n",
       "      <td>89.922336</td>\n",
       "      <td>1.0</td>\n",
       "      <td>10.0</td>\n",
       "      <td>2.0</td>\n",
       "      <td>1125.0</td>\n",
       "      <td>2.0</td>\n",
       "      <td>4.0</td>\n",
       "      <td>1125.0</td>\n",
       "      <td>1125.0</td>\n",
       "      <td>2.1</td>\n",
       "      <td>1125.0</td>\n",
       "      <td>3.0</td>\n",
       "      <td>3.0</td>\n",
       "      <td>3.0</td>\n",
       "      <td>3.0</td>\n",
       "      <td>125.0</td>\n",
       "      <td>31.0</td>\n",
       "      <td>90.0</td>\n",
       "      <td>10.0</td>\n",
       "      <td>9.0</td>\n",
       "      <td>10.0</td>\n",
       "      <td>10.0</td>\n",
       "      <td>9.0</td>\n",
       "      <td>9.0</td>\n",
       "      <td>0.0</td>\n",
       "      <td>1</td>\n",
       "      <td>0.0</td>\n",
       "      <td>0.0</td>\n",
       "      <td>2.0</td>\n",
       "      <td>0.0</td>\n",
       "      <td>2.0</td>\n",
       "      <td>0.0</td>\n",
       "      <td>3.05</td>\n",
       "      <td>3.496508</td>\n",
       "      <td>0.354642</td>\n",
       "      <td>0.618683</td>\n",
       "    </tr>\n",
       "    <tr>\n",
       "      <td>3</td>\n",
       "      <td>3</td>\n",
       "      <td>23197</td>\n",
       "      <td>3</td>\n",
       "      <td>100.0</td>\n",
       "      <td>1.0</td>\n",
       "      <td>5.0</td>\n",
       "      <td>8.0</td>\n",
       "      <td>1.0</td>\n",
       "      <td>1.0</td>\n",
       "      <td>0.0</td>\n",
       "      <td>1</td>\n",
       "      <td>0</td>\n",
       "      <td>6.0</td>\n",
       "      <td>4</td>\n",
       "      <td>3</td>\n",
       "      <td>5</td>\n",
       "      <td>4</td>\n",
       "      <td>46.0</td>\n",
       "      <td>210.0</td>\n",
       "      <td>300.000000</td>\n",
       "      <td>80.000000</td>\n",
       "      <td>3.0</td>\n",
       "      <td>10.0</td>\n",
       "      <td>3.0</td>\n",
       "      <td>1125.0</td>\n",
       "      <td>3.0</td>\n",
       "      <td>5.0</td>\n",
       "      <td>1125.0</td>\n",
       "      <td>1125.0</td>\n",
       "      <td>3.1</td>\n",
       "      <td>1125.0</td>\n",
       "      <td>10.0</td>\n",
       "      <td>33.0</td>\n",
       "      <td>56.0</td>\n",
       "      <td>326.0</td>\n",
       "      <td>49.0</td>\n",
       "      <td>17.0</td>\n",
       "      <td>94.0</td>\n",
       "      <td>10.0</td>\n",
       "      <td>10.0</td>\n",
       "      <td>10.0</td>\n",
       "      <td>10.0</td>\n",
       "      <td>9.0</td>\n",
       "      <td>9.0</td>\n",
       "      <td>1.0</td>\n",
       "      <td>3</td>\n",
       "      <td>0.0</td>\n",
       "      <td>1.0</td>\n",
       "      <td>2.0</td>\n",
       "      <td>2.0</td>\n",
       "      <td>0.0</td>\n",
       "      <td>0.0</td>\n",
       "      <td>0.47</td>\n",
       "      <td>5.347108</td>\n",
       "      <td>0.332431</td>\n",
       "      <td>0.571535</td>\n",
       "    </tr>\n",
       "    <tr>\n",
       "      <td>4</td>\n",
       "      <td>4</td>\n",
       "      <td>25786</td>\n",
       "      <td>3</td>\n",
       "      <td>100.0</td>\n",
       "      <td>1.0</td>\n",
       "      <td>1.0</td>\n",
       "      <td>8.0</td>\n",
       "      <td>1.0</td>\n",
       "      <td>1.0</td>\n",
       "      <td>1.0</td>\n",
       "      <td>1</td>\n",
       "      <td>2</td>\n",
       "      <td>2.0</td>\n",
       "      <td>2</td>\n",
       "      <td>1</td>\n",
       "      <td>1</td>\n",
       "      <td>4</td>\n",
       "      <td>17.0</td>\n",
       "      <td>45.0</td>\n",
       "      <td>991.363756</td>\n",
       "      <td>-10.009156</td>\n",
       "      <td>1.0</td>\n",
       "      <td>25.0</td>\n",
       "      <td>1.0</td>\n",
       "      <td>730.0</td>\n",
       "      <td>1.0</td>\n",
       "      <td>1.0</td>\n",
       "      <td>730.0</td>\n",
       "      <td>730.0</td>\n",
       "      <td>1.0</td>\n",
       "      <td>730.0</td>\n",
       "      <td>10.0</td>\n",
       "      <td>31.0</td>\n",
       "      <td>41.0</td>\n",
       "      <td>77.0</td>\n",
       "      <td>254.0</td>\n",
       "      <td>48.0</td>\n",
       "      <td>95.0</td>\n",
       "      <td>10.0</td>\n",
       "      <td>10.0</td>\n",
       "      <td>10.0</td>\n",
       "      <td>10.0</td>\n",
       "      <td>10.0</td>\n",
       "      <td>10.0</td>\n",
       "      <td>1.0</td>\n",
       "      <td>3</td>\n",
       "      <td>1.0</td>\n",
       "      <td>1.0</td>\n",
       "      <td>1.0</td>\n",
       "      <td>0.0</td>\n",
       "      <td>1.0</td>\n",
       "      <td>0.0</td>\n",
       "      <td>2.29</td>\n",
       "      <td>3.806662</td>\n",
       "      <td>0.398952</td>\n",
       "      <td>0.621173</td>\n",
       "    </tr>\n",
       "  </tbody>\n",
       "</table>\n",
       "</div>"
      ],
      "text/plain": [
       "   Unnamed: 0  listing_id  host_response_time  host_response_rate  \\\n",
       "0           0       18666                   3                95.0   \n",
       "1           1       18674                   3                95.0   \n",
       "2           2       21605                   2               100.0   \n",
       "3           3       23197                   3               100.0   \n",
       "4           4       25786                   3               100.0   \n",
       "\n",
       "   host_is_superhost  host_total_listings_count  host_verifications  \\\n",
       "0                0.0                       47.0                 5.0   \n",
       "1                0.0                       47.0                 5.0   \n",
       "2                0.0                        2.0                 6.0   \n",
       "3                1.0                        5.0                 8.0   \n",
       "4                1.0                        1.0                 8.0   \n",
       "\n",
       "   host_has_profile_pic  host_identity_verified  is_location_exact  \\\n",
       "0                   1.0                     1.0                1.0   \n",
       "1                   1.0                     1.0                1.0   \n",
       "2                   1.0                     1.0                1.0   \n",
       "3                   1.0                     1.0                0.0   \n",
       "4                   1.0                     1.0                1.0   \n",
       "\n",
       "   property_type  room_type  accommodates  bathrooms  bedrooms  beds  \\\n",
       "0              1          0           6.0          2         2     4   \n",
       "1              1          0           8.0          4         3     6   \n",
       "2              1          2           2.0          2         1     1   \n",
       "3              1          0           6.0          4         3     5   \n",
       "4              1          2           2.0          2         1     1   \n",
       "\n",
       "   bed_type  amenities  price  security_deposit  cleaning_fee  \\\n",
       "0         4       18.0  130.0        150.000000     42.000000   \n",
       "1         4       22.0   60.0        150.000000     50.000000   \n",
       "2         4       41.0   33.0        100.000000     89.922336   \n",
       "3         4       46.0  210.0        300.000000     80.000000   \n",
       "4         4       17.0   45.0        991.363756    -10.009156   \n",
       "\n",
       "   guests_included  extra_people  minimum_nights  maximum_nights  \\\n",
       "0              2.0          25.0             3.0           730.0   \n",
       "1              2.0          30.0             1.0          1125.0   \n",
       "2              1.0          10.0             2.0          1125.0   \n",
       "3              3.0          10.0             3.0          1125.0   \n",
       "4              1.0          25.0             1.0           730.0   \n",
       "\n",
       "   minimum_minimum_nights  maximum_minimum_nights  minimum_maximum_nights  \\\n",
       "0                     3.0                     3.0                   730.0   \n",
       "1                     1.0                     5.0                  1125.0   \n",
       "2                     2.0                     4.0                  1125.0   \n",
       "3                     3.0                     5.0                  1125.0   \n",
       "4                     1.0                     1.0                   730.0   \n",
       "\n",
       "   maximum_maximum_nights  minimum_nights_avg_ntm  maximum_nights_avg_ntm  \\\n",
       "0                   730.0                     3.0                   730.0   \n",
       "1                  1125.0                     1.9                  1125.0   \n",
       "2                  1125.0                     2.1                  1125.0   \n",
       "3                  1125.0                     3.1                  1125.0   \n",
       "4                   730.0                     1.0                   730.0   \n",
       "\n",
       "   availability_30  availability_60  availability_90  availability_365  \\\n",
       "0              0.0              0.0              0.0             251.0   \n",
       "1             13.0             31.0             43.0              52.0   \n",
       "2              3.0              3.0              3.0               3.0   \n",
       "3             10.0             33.0             56.0             326.0   \n",
       "4             10.0             31.0             41.0              77.0   \n",
       "\n",
       "   number_of_reviews  number_of_reviews_ltm  review_scores_rating  \\\n",
       "0                1.0                    0.0                  80.0   \n",
       "1               16.0                   11.0                  85.0   \n",
       "2              125.0                   31.0                  90.0   \n",
       "3               49.0                   17.0                  94.0   \n",
       "4              254.0                   48.0                  95.0   \n",
       "\n",
       "   review_scores_accuracy  review_scores_cleanliness  review_scores_checkin  \\\n",
       "0                    10.0                       10.0                    2.0   \n",
       "1                     9.0                        9.0                    9.0   \n",
       "2                    10.0                        9.0                   10.0   \n",
       "3                    10.0                       10.0                   10.0   \n",
       "4                    10.0                       10.0                   10.0   \n",
       "\n",
       "   review_scores_communication  review_scores_location  review_scores_value  \\\n",
       "0                         10.0                    10.0                  8.0   \n",
       "1                         10.0                     9.0                  8.0   \n",
       "2                         10.0                     9.0                  9.0   \n",
       "3                         10.0                     9.0                  9.0   \n",
       "4                         10.0                    10.0                 10.0   \n",
       "\n",
       "   instant_bookable  cancellation_policy  require_guest_profile_picture  \\\n",
       "0               0.0                    0                            0.0   \n",
       "1               1.0                    3                            0.0   \n",
       "2               0.0                    1                            0.0   \n",
       "3               1.0                    3                            0.0   \n",
       "4               1.0                    3                            1.0   \n",
       "\n",
       "   require_guest_phone_verification  calculated_host_listings_count  \\\n",
       "0                               0.0                            31.0   \n",
       "1                               0.0                            31.0   \n",
       "2                               0.0                             2.0   \n",
       "3                               1.0                             2.0   \n",
       "4                               1.0                             1.0   \n",
       "\n",
       "   calculated_host_listings_count_entire_homes  \\\n",
       "0                                         31.0   \n",
       "1                                         31.0   \n",
       "2                                          0.0   \n",
       "3                                          2.0   \n",
       "4                                          0.0   \n",
       "\n",
       "   calculated_host_listings_count_private_rooms  \\\n",
       "0                                           0.0   \n",
       "1                                           0.0   \n",
       "2                                           2.0   \n",
       "3                                           0.0   \n",
       "4                                           1.0   \n",
       "\n",
       "   calculated_host_listings_count_shared_rooms  reviews_per_month  log_price  \\\n",
       "0                                          0.0               0.02   4.867534   \n",
       "1                                          0.0               0.21   4.094345   \n",
       "2                                          0.0               3.05   3.496508   \n",
       "3                                          0.0               0.47   5.347108   \n",
       "4                                          0.0               2.29   3.806662   \n",
       "\n",
       "   sentiment_polarity  sentiment_sub  \n",
       "0            0.359583       0.539583  \n",
       "1            0.225551       0.526540  \n",
       "2            0.354642       0.618683  \n",
       "3            0.332431       0.571535  \n",
       "4            0.398952       0.621173  "
      ]
     },
     "execution_count": 83,
     "metadata": {},
     "output_type": "execute_result"
    }
   ],
   "source": [
    "df.head()"
   ]
  },
  {
   "cell_type": "code",
   "execution_count": 84,
   "metadata": {},
   "outputs": [],
   "source": [
    "df.drop(['Unnamed: 0','listing_id'],1,inplace = True)"
   ]
  },
  {
   "cell_type": "code",
   "execution_count": 85,
   "metadata": {},
   "outputs": [],
   "source": [
    "# from sklearn.preprocessing import LabelEncoder\n",
    "\n",
    "# le = LabelEncoder()\n",
    "# for i in df.select_dtypes('object').columns:\n",
    "#     df[i] = le.fit_transform(df[i])"
   ]
  },
  {
   "cell_type": "code",
   "execution_count": 86,
   "metadata": {},
   "outputs": [],
   "source": [
    "rounding_categorical = ['bathrooms','beds','bedrooms']"
   ]
  },
  {
   "cell_type": "code",
   "execution_count": 87,
   "metadata": {},
   "outputs": [
    {
     "data": {
      "text/html": [
       "<div>\n",
       "<style scoped>\n",
       "    .dataframe tbody tr th:only-of-type {\n",
       "        vertical-align: middle;\n",
       "    }\n",
       "\n",
       "    .dataframe tbody tr th {\n",
       "        vertical-align: top;\n",
       "    }\n",
       "\n",
       "    .dataframe thead th {\n",
       "        text-align: right;\n",
       "    }\n",
       "</style>\n",
       "<table border=\"1\" class=\"dataframe\">\n",
       "  <thead>\n",
       "    <tr style=\"text-align: right;\">\n",
       "      <th></th>\n",
       "      <th>bathrooms</th>\n",
       "      <th>beds</th>\n",
       "      <th>bedrooms</th>\n",
       "    </tr>\n",
       "  </thead>\n",
       "  <tbody>\n",
       "    <tr>\n",
       "      <td>0</td>\n",
       "      <td>2</td>\n",
       "      <td>4</td>\n",
       "      <td>2</td>\n",
       "    </tr>\n",
       "    <tr>\n",
       "      <td>1</td>\n",
       "      <td>4</td>\n",
       "      <td>6</td>\n",
       "      <td>3</td>\n",
       "    </tr>\n",
       "    <tr>\n",
       "      <td>2</td>\n",
       "      <td>2</td>\n",
       "      <td>1</td>\n",
       "      <td>1</td>\n",
       "    </tr>\n",
       "    <tr>\n",
       "      <td>3</td>\n",
       "      <td>4</td>\n",
       "      <td>5</td>\n",
       "      <td>3</td>\n",
       "    </tr>\n",
       "    <tr>\n",
       "      <td>4</td>\n",
       "      <td>2</td>\n",
       "      <td>1</td>\n",
       "      <td>1</td>\n",
       "    </tr>\n",
       "    <tr>\n",
       "      <td>...</td>\n",
       "      <td>...</td>\n",
       "      <td>...</td>\n",
       "      <td>...</td>\n",
       "    </tr>\n",
       "    <tr>\n",
       "      <td>16033</td>\n",
       "      <td>2</td>\n",
       "      <td>1</td>\n",
       "      <td>1</td>\n",
       "    </tr>\n",
       "    <tr>\n",
       "      <td>16034</td>\n",
       "      <td>2</td>\n",
       "      <td>1</td>\n",
       "      <td>1</td>\n",
       "    </tr>\n",
       "    <tr>\n",
       "      <td>16035</td>\n",
       "      <td>4</td>\n",
       "      <td>1</td>\n",
       "      <td>1</td>\n",
       "    </tr>\n",
       "    <tr>\n",
       "      <td>16036</td>\n",
       "      <td>2</td>\n",
       "      <td>1</td>\n",
       "      <td>1</td>\n",
       "    </tr>\n",
       "    <tr>\n",
       "      <td>16037</td>\n",
       "      <td>2</td>\n",
       "      <td>2</td>\n",
       "      <td>1</td>\n",
       "    </tr>\n",
       "  </tbody>\n",
       "</table>\n",
       "<p>16038 rows × 3 columns</p>\n",
       "</div>"
      ],
      "text/plain": [
       "       bathrooms  beds  bedrooms\n",
       "0              2     4         2\n",
       "1              4     6         3\n",
       "2              2     1         1\n",
       "3              4     5         3\n",
       "4              2     1         1\n",
       "...          ...   ...       ...\n",
       "16033          2     1         1\n",
       "16034          2     1         1\n",
       "16035          4     1         1\n",
       "16036          2     1         1\n",
       "16037          2     2         1\n",
       "\n",
       "[16038 rows x 3 columns]"
      ]
     },
     "execution_count": 87,
     "metadata": {},
     "output_type": "execute_result"
    }
   ],
   "source": [
    "df[rounding_categorical] = df[rounding_categorical].astype(int)\n",
    "df[rounding_categorical]"
   ]
  },
  {
   "cell_type": "code",
   "execution_count": 88,
   "metadata": {},
   "outputs": [],
   "source": [
    "for i in df.select_dtypes('bool').columns:\n",
    "    df[i] = df[i].astype(int)"
   ]
  },
  {
   "cell_type": "code",
   "execution_count": 89,
   "metadata": {},
   "outputs": [],
   "source": [
    "df['log_price'] = np.log(df.price)"
   ]
  },
  {
   "cell_type": "code",
   "execution_count": 90,
   "metadata": {},
   "outputs": [],
   "source": [
    "daf = df.drop('price',1)"
   ]
  },
  {
   "cell_type": "code",
   "execution_count": 91,
   "metadata": {},
   "outputs": [
    {
     "data": {
      "text/plain": [
       "(16038, 53)"
      ]
     },
     "execution_count": 91,
     "metadata": {},
     "output_type": "execute_result"
    }
   ],
   "source": [
    "daf.shape"
   ]
  },
  {
   "cell_type": "code",
   "execution_count": 92,
   "metadata": {},
   "outputs": [],
   "source": [
    "X,y = daf.drop('log_price',1), daf.log_price"
   ]
  },
  {
   "cell_type": "code",
   "execution_count": 93,
   "metadata": {},
   "outputs": [],
   "source": [
    "import statsmodels.api as sm"
   ]
  },
  {
   "cell_type": "code",
   "execution_count": 94,
   "metadata": {},
   "outputs": [],
   "source": [
    "X_constant = sm.add_constant(X)\n",
    "model = sm.OLS(y, X_constant).fit()"
   ]
  },
  {
   "cell_type": "code",
   "execution_count": 95,
   "metadata": {
    "scrolled": false
   },
   "outputs": [
    {
     "data": {
      "text/html": [
       "<table class=\"simpletable\">\n",
       "<caption>OLS Regression Results</caption>\n",
       "<tr>\n",
       "  <th>Dep. Variable:</th>        <td>log_price</td>    <th>  R-squared:         </th> <td>   0.517</td> \n",
       "</tr>\n",
       "<tr>\n",
       "  <th>Model:</th>                   <td>OLS</td>       <th>  Adj. R-squared:    </th> <td>   0.515</td> \n",
       "</tr>\n",
       "<tr>\n",
       "  <th>Method:</th>             <td>Least Squares</td>  <th>  F-statistic:       </th> <td>   328.9</td> \n",
       "</tr>\n",
       "<tr>\n",
       "  <th>Date:</th>             <td>Wed, 20 Nov 2019</td> <th>  Prob (F-statistic):</th>  <td>  0.00</td>  \n",
       "</tr>\n",
       "<tr>\n",
       "  <th>Time:</th>                 <td>10:27:14</td>     <th>  Log-Likelihood:    </th> <td> -13942.</td> \n",
       "</tr>\n",
       "<tr>\n",
       "  <th>No. Observations:</th>      <td> 16038</td>      <th>  AIC:               </th> <td>2.799e+04</td>\n",
       "</tr>\n",
       "<tr>\n",
       "  <th>Df Residuals:</th>          <td> 15985</td>      <th>  BIC:               </th> <td>2.840e+04</td>\n",
       "</tr>\n",
       "<tr>\n",
       "  <th>Df Model:</th>              <td>    52</td>      <th>                     </th>     <td> </td>    \n",
       "</tr>\n",
       "<tr>\n",
       "  <th>Covariance Type:</th>      <td>nonrobust</td>    <th>                     </th>     <td> </td>    \n",
       "</tr>\n",
       "</table>\n",
       "<table class=\"simpletable\">\n",
       "<tr>\n",
       "                        <td></td>                          <th>coef</th>     <th>std err</th>      <th>t</th>      <th>P>|t|</th>  <th>[0.025</th>    <th>0.975]</th>  \n",
       "</tr>\n",
       "<tr>\n",
       "  <th>const</th>                                        <td>    3.1618</td> <td>    0.195</td> <td>   16.216</td> <td> 0.000</td> <td>    2.780</td> <td>    3.544</td>\n",
       "</tr>\n",
       "<tr>\n",
       "  <th>host_response_time</th>                           <td>   -0.0060</td> <td>    0.007</td> <td>   -0.906</td> <td> 0.365</td> <td>   -0.019</td> <td>    0.007</td>\n",
       "</tr>\n",
       "<tr>\n",
       "  <th>host_response_rate</th>                           <td>    0.0009</td> <td>    0.000</td> <td>    2.254</td> <td> 0.024</td> <td>    0.000</td> <td>    0.002</td>\n",
       "</tr>\n",
       "<tr>\n",
       "  <th>host_is_superhost</th>                            <td>    0.0078</td> <td>    0.012</td> <td>    0.647</td> <td> 0.517</td> <td>   -0.016</td> <td>    0.031</td>\n",
       "</tr>\n",
       "<tr>\n",
       "  <th>host_total_listings_count</th>                    <td>   -0.0023</td> <td>    0.000</td> <td>  -15.159</td> <td> 0.000</td> <td>   -0.003</td> <td>   -0.002</td>\n",
       "</tr>\n",
       "<tr>\n",
       "  <th>host_verifications</th>                           <td>   -0.0156</td> <td>    0.002</td> <td>   -6.708</td> <td> 0.000</td> <td>   -0.020</td> <td>   -0.011</td>\n",
       "</tr>\n",
       "<tr>\n",
       "  <th>host_has_profile_pic</th>                         <td>   -0.0247</td> <td>    0.104</td> <td>   -0.237</td> <td> 0.813</td> <td>   -0.229</td> <td>    0.180</td>\n",
       "</tr>\n",
       "<tr>\n",
       "  <th>host_identity_verified</th>                       <td>    0.0027</td> <td>    0.010</td> <td>    0.267</td> <td> 0.789</td> <td>   -0.017</td> <td>    0.023</td>\n",
       "</tr>\n",
       "<tr>\n",
       "  <th>is_location_exact</th>                            <td>    0.0077</td> <td>    0.010</td> <td>    0.773</td> <td> 0.439</td> <td>   -0.012</td> <td>    0.027</td>\n",
       "</tr>\n",
       "<tr>\n",
       "  <th>property_type</th>                                <td>    0.0005</td> <td>    0.001</td> <td>    0.680</td> <td> 0.497</td> <td>   -0.001</td> <td>    0.002</td>\n",
       "</tr>\n",
       "<tr>\n",
       "  <th>room_type</th>                                    <td>   -0.0038</td> <td>    0.006</td> <td>   -0.658</td> <td> 0.511</td> <td>   -0.015</td> <td>    0.007</td>\n",
       "</tr>\n",
       "<tr>\n",
       "  <th>accommodates</th>                                 <td>    0.1656</td> <td>    0.003</td> <td>   50.740</td> <td> 0.000</td> <td>    0.159</td> <td>    0.172</td>\n",
       "</tr>\n",
       "<tr>\n",
       "  <th>bathrooms</th>                                    <td>   -0.0055</td> <td>    0.004</td> <td>   -1.250</td> <td> 0.211</td> <td>   -0.014</td> <td>    0.003</td>\n",
       "</tr>\n",
       "<tr>\n",
       "  <th>bedrooms</th>                                     <td>    0.0083</td> <td>    0.008</td> <td>    1.031</td> <td> 0.303</td> <td>   -0.008</td> <td>    0.024</td>\n",
       "</tr>\n",
       "<tr>\n",
       "  <th>beds</th>                                         <td>   -0.0018</td> <td>    0.004</td> <td>   -0.398</td> <td> 0.691</td> <td>   -0.010</td> <td>    0.007</td>\n",
       "</tr>\n",
       "<tr>\n",
       "  <th>bed_type</th>                                     <td>   -0.0314</td> <td>    0.036</td> <td>   -0.876</td> <td> 0.381</td> <td>   -0.102</td> <td>    0.039</td>\n",
       "</tr>\n",
       "<tr>\n",
       "  <th>amenities</th>                                    <td>    0.0033</td> <td>    0.000</td> <td>    7.201</td> <td> 0.000</td> <td>    0.002</td> <td>    0.004</td>\n",
       "</tr>\n",
       "<tr>\n",
       "  <th>security_deposit</th>                             <td> 3.149e-05</td> <td> 1.42e-05</td> <td>    2.216</td> <td> 0.027</td> <td> 3.64e-06</td> <td> 5.93e-05</td>\n",
       "</tr>\n",
       "<tr>\n",
       "  <th>cleaning_fee</th>                                 <td>    0.0019</td> <td>    0.000</td> <td>   11.432</td> <td> 0.000</td> <td>    0.002</td> <td>    0.002</td>\n",
       "</tr>\n",
       "<tr>\n",
       "  <th>guests_included</th>                              <td>    0.0356</td> <td>    0.004</td> <td>    8.847</td> <td> 0.000</td> <td>    0.028</td> <td>    0.044</td>\n",
       "</tr>\n",
       "<tr>\n",
       "  <th>extra_people</th>                                 <td>    0.0018</td> <td>    0.000</td> <td>    5.255</td> <td> 0.000</td> <td>    0.001</td> <td>    0.002</td>\n",
       "</tr>\n",
       "<tr>\n",
       "  <th>minimum_nights</th>                               <td>   -0.0019</td> <td>    0.002</td> <td>   -0.922</td> <td> 0.357</td> <td>   -0.006</td> <td>    0.002</td>\n",
       "</tr>\n",
       "<tr>\n",
       "  <th>maximum_nights</th>                               <td>-4.424e-05</td> <td>  4.9e-05</td> <td>   -0.904</td> <td> 0.366</td> <td>   -0.000</td> <td> 5.17e-05</td>\n",
       "</tr>\n",
       "<tr>\n",
       "  <th>minimum_minimum_nights</th>                       <td>   -0.0078</td> <td>    0.002</td> <td>   -3.534</td> <td> 0.000</td> <td>   -0.012</td> <td>   -0.003</td>\n",
       "</tr>\n",
       "<tr>\n",
       "  <th>maximum_minimum_nights</th>                       <td> 1.239e-05</td> <td>    0.001</td> <td>    0.014</td> <td> 0.989</td> <td>   -0.002</td> <td>    0.002</td>\n",
       "</tr>\n",
       "<tr>\n",
       "  <th>minimum_maximum_nights</th>                       <td>   -0.0002</td> <td> 5.02e-05</td> <td>   -3.116</td> <td> 0.002</td> <td>   -0.000</td> <td> -5.8e-05</td>\n",
       "</tr>\n",
       "<tr>\n",
       "  <th>maximum_maximum_nights</th>                       <td>    0.0007</td> <td> 8.87e-05</td> <td>    7.592</td> <td> 0.000</td> <td>    0.000</td> <td>    0.001</td>\n",
       "</tr>\n",
       "<tr>\n",
       "  <th>minimum_nights_avg_ntm</th>                       <td>    0.0037</td> <td>    0.003</td> <td>    1.384</td> <td> 0.166</td> <td>   -0.002</td> <td>    0.009</td>\n",
       "</tr>\n",
       "<tr>\n",
       "  <th>maximum_nights_avg_ntm</th>                       <td>   -0.0005</td> <td> 9.02e-05</td> <td>   -5.245</td> <td> 0.000</td> <td>   -0.001</td> <td>   -0.000</td>\n",
       "</tr>\n",
       "<tr>\n",
       "  <th>availability_30</th>                              <td>    0.0028</td> <td>    0.001</td> <td>    1.900</td> <td> 0.057</td> <td>-8.87e-05</td> <td>    0.006</td>\n",
       "</tr>\n",
       "<tr>\n",
       "  <th>availability_60</th>                              <td>   -0.0035</td> <td>    0.001</td> <td>   -2.670</td> <td> 0.008</td> <td>   -0.006</td> <td>   -0.001</td>\n",
       "</tr>\n",
       "<tr>\n",
       "  <th>availability_90</th>                              <td>    0.0037</td> <td>    0.001</td> <td>    5.935</td> <td> 0.000</td> <td>    0.002</td> <td>    0.005</td>\n",
       "</tr>\n",
       "<tr>\n",
       "  <th>availability_365</th>                             <td>    0.0002</td> <td> 4.48e-05</td> <td>    3.652</td> <td> 0.000</td> <td> 7.58e-05</td> <td>    0.000</td>\n",
       "</tr>\n",
       "<tr>\n",
       "  <th>number_of_reviews</th>                            <td>   -0.0003</td> <td>    0.000</td> <td>   -2.573</td> <td> 0.010</td> <td>   -0.001</td> <td>-7.29e-05</td>\n",
       "</tr>\n",
       "<tr>\n",
       "  <th>number_of_reviews_ltm</th>                        <td>   -0.0009</td> <td>    0.001</td> <td>   -1.718</td> <td> 0.086</td> <td>   -0.002</td> <td>    0.000</td>\n",
       "</tr>\n",
       "<tr>\n",
       "  <th>review_scores_rating</th>                         <td>    0.0056</td> <td>    0.001</td> <td>    5.536</td> <td> 0.000</td> <td>    0.004</td> <td>    0.008</td>\n",
       "</tr>\n",
       "<tr>\n",
       "  <th>review_scores_accuracy</th>                       <td>    0.0010</td> <td>    0.008</td> <td>    0.122</td> <td> 0.903</td> <td>   -0.015</td> <td>    0.017</td>\n",
       "</tr>\n",
       "<tr>\n",
       "  <th>review_scores_cleanliness</th>                    <td>    0.0331</td> <td>    0.006</td> <td>    5.304</td> <td> 0.000</td> <td>    0.021</td> <td>    0.045</td>\n",
       "</tr>\n",
       "<tr>\n",
       "  <th>review_scores_checkin</th>                        <td>   -0.0559</td> <td>    0.008</td> <td>   -7.272</td> <td> 0.000</td> <td>   -0.071</td> <td>   -0.041</td>\n",
       "</tr>\n",
       "<tr>\n",
       "  <th>review_scores_communication</th>                  <td>    0.0175</td> <td>    0.008</td> <td>    2.181</td> <td> 0.029</td> <td>    0.002</td> <td>    0.033</td>\n",
       "</tr>\n",
       "<tr>\n",
       "  <th>review_scores_location</th>                       <td>    0.0450</td> <td>    0.007</td> <td>    6.136</td> <td> 0.000</td> <td>    0.031</td> <td>    0.059</td>\n",
       "</tr>\n",
       "<tr>\n",
       "  <th>review_scores_value</th>                          <td>   -0.0573</td> <td>    0.008</td> <td>   -7.412</td> <td> 0.000</td> <td>   -0.072</td> <td>   -0.042</td>\n",
       "</tr>\n",
       "<tr>\n",
       "  <th>instant_bookable</th>                             <td>    0.0005</td> <td>    0.010</td> <td>    0.050</td> <td> 0.960</td> <td>   -0.019</td> <td>    0.020</td>\n",
       "</tr>\n",
       "<tr>\n",
       "  <th>cancellation_policy</th>                          <td>   -0.0085</td> <td>    0.004</td> <td>   -2.338</td> <td> 0.019</td> <td>   -0.016</td> <td>   -0.001</td>\n",
       "</tr>\n",
       "<tr>\n",
       "  <th>require_guest_profile_picture</th>                <td>   -0.1000</td> <td>    0.045</td> <td>   -2.203</td> <td> 0.028</td> <td>   -0.189</td> <td>   -0.011</td>\n",
       "</tr>\n",
       "<tr>\n",
       "  <th>require_guest_phone_verification</th>             <td>    0.0880</td> <td>    0.029</td> <td>    3.024</td> <td> 0.002</td> <td>    0.031</td> <td>    0.145</td>\n",
       "</tr>\n",
       "<tr>\n",
       "  <th>calculated_host_listings_count</th>               <td>    0.0423</td> <td>    0.002</td> <td>   26.154</td> <td> 0.000</td> <td>    0.039</td> <td>    0.045</td>\n",
       "</tr>\n",
       "<tr>\n",
       "  <th>calculated_host_listings_count_entire_homes</th>  <td>   -0.0349</td> <td>    0.002</td> <td>  -21.724</td> <td> 0.000</td> <td>   -0.038</td> <td>   -0.032</td>\n",
       "</tr>\n",
       "<tr>\n",
       "  <th>calculated_host_listings_count_private_rooms</th> <td>   -0.0580</td> <td>    0.002</td> <td>  -27.337</td> <td> 0.000</td> <td>   -0.062</td> <td>   -0.054</td>\n",
       "</tr>\n",
       "<tr>\n",
       "  <th>calculated_host_listings_count_shared_rooms</th>  <td>   -0.1583</td> <td>    0.011</td> <td>  -14.064</td> <td> 0.000</td> <td>   -0.180</td> <td>   -0.136</td>\n",
       "</tr>\n",
       "<tr>\n",
       "  <th>reviews_per_month</th>                            <td>   -0.0001</td> <td>    0.004</td> <td>   -0.031</td> <td> 0.975</td> <td>   -0.009</td> <td>    0.008</td>\n",
       "</tr>\n",
       "<tr>\n",
       "  <th>sentiment_polarity</th>                           <td>    0.2815</td> <td>    0.049</td> <td>    5.793</td> <td> 0.000</td> <td>    0.186</td> <td>    0.377</td>\n",
       "</tr>\n",
       "<tr>\n",
       "  <th>sentiment_sub</th>                                <td>   -0.1679</td> <td>    0.042</td> <td>   -4.037</td> <td> 0.000</td> <td>   -0.249</td> <td>   -0.086</td>\n",
       "</tr>\n",
       "</table>\n",
       "<table class=\"simpletable\">\n",
       "<tr>\n",
       "  <th>Omnibus:</th>       <td>5814.361</td> <th>  Durbin-Watson:     </th> <td>   1.632</td> \n",
       "</tr>\n",
       "<tr>\n",
       "  <th>Prob(Omnibus):</th>  <td> 0.000</td>  <th>  Jarque-Bera (JB):  </th> <td>61386.121</td>\n",
       "</tr>\n",
       "<tr>\n",
       "  <th>Skew:</th>           <td> 1.437</td>  <th>  Prob(JB):          </th> <td>    0.00</td> \n",
       "</tr>\n",
       "<tr>\n",
       "  <th>Kurtosis:</th>       <td>12.143</td>  <th>  Cond. No.          </th> <td>2.17e+09</td> \n",
       "</tr>\n",
       "</table><br/><br/>Warnings:<br/>[1] Standard Errors assume that the covariance matrix of the errors is correctly specified.<br/>[2] The condition number is large, 2.17e+09. This might indicate that there are<br/>strong multicollinearity or other numerical problems."
      ],
      "text/plain": [
       "<class 'statsmodels.iolib.summary.Summary'>\n",
       "\"\"\"\n",
       "                            OLS Regression Results                            \n",
       "==============================================================================\n",
       "Dep. Variable:              log_price   R-squared:                       0.517\n",
       "Model:                            OLS   Adj. R-squared:                  0.515\n",
       "Method:                 Least Squares   F-statistic:                     328.9\n",
       "Date:                Wed, 20 Nov 2019   Prob (F-statistic):               0.00\n",
       "Time:                        10:27:14   Log-Likelihood:                -13942.\n",
       "No. Observations:               16038   AIC:                         2.799e+04\n",
       "Df Residuals:                   15985   BIC:                         2.840e+04\n",
       "Df Model:                          52                                         \n",
       "Covariance Type:            nonrobust                                         \n",
       "================================================================================================================\n",
       "                                                   coef    std err          t      P>|t|      [0.025      0.975]\n",
       "----------------------------------------------------------------------------------------------------------------\n",
       "const                                            3.1618      0.195     16.216      0.000       2.780       3.544\n",
       "host_response_time                              -0.0060      0.007     -0.906      0.365      -0.019       0.007\n",
       "host_response_rate                               0.0009      0.000      2.254      0.024       0.000       0.002\n",
       "host_is_superhost                                0.0078      0.012      0.647      0.517      -0.016       0.031\n",
       "host_total_listings_count                       -0.0023      0.000    -15.159      0.000      -0.003      -0.002\n",
       "host_verifications                              -0.0156      0.002     -6.708      0.000      -0.020      -0.011\n",
       "host_has_profile_pic                            -0.0247      0.104     -0.237      0.813      -0.229       0.180\n",
       "host_identity_verified                           0.0027      0.010      0.267      0.789      -0.017       0.023\n",
       "is_location_exact                                0.0077      0.010      0.773      0.439      -0.012       0.027\n",
       "property_type                                    0.0005      0.001      0.680      0.497      -0.001       0.002\n",
       "room_type                                       -0.0038      0.006     -0.658      0.511      -0.015       0.007\n",
       "accommodates                                     0.1656      0.003     50.740      0.000       0.159       0.172\n",
       "bathrooms                                       -0.0055      0.004     -1.250      0.211      -0.014       0.003\n",
       "bedrooms                                         0.0083      0.008      1.031      0.303      -0.008       0.024\n",
       "beds                                            -0.0018      0.004     -0.398      0.691      -0.010       0.007\n",
       "bed_type                                        -0.0314      0.036     -0.876      0.381      -0.102       0.039\n",
       "amenities                                        0.0033      0.000      7.201      0.000       0.002       0.004\n",
       "security_deposit                              3.149e-05   1.42e-05      2.216      0.027    3.64e-06    5.93e-05\n",
       "cleaning_fee                                     0.0019      0.000     11.432      0.000       0.002       0.002\n",
       "guests_included                                  0.0356      0.004      8.847      0.000       0.028       0.044\n",
       "extra_people                                     0.0018      0.000      5.255      0.000       0.001       0.002\n",
       "minimum_nights                                  -0.0019      0.002     -0.922      0.357      -0.006       0.002\n",
       "maximum_nights                               -4.424e-05    4.9e-05     -0.904      0.366      -0.000    5.17e-05\n",
       "minimum_minimum_nights                          -0.0078      0.002     -3.534      0.000      -0.012      -0.003\n",
       "maximum_minimum_nights                        1.239e-05      0.001      0.014      0.989      -0.002       0.002\n",
       "minimum_maximum_nights                          -0.0002   5.02e-05     -3.116      0.002      -0.000    -5.8e-05\n",
       "maximum_maximum_nights                           0.0007   8.87e-05      7.592      0.000       0.000       0.001\n",
       "minimum_nights_avg_ntm                           0.0037      0.003      1.384      0.166      -0.002       0.009\n",
       "maximum_nights_avg_ntm                          -0.0005   9.02e-05     -5.245      0.000      -0.001      -0.000\n",
       "availability_30                                  0.0028      0.001      1.900      0.057   -8.87e-05       0.006\n",
       "availability_60                                 -0.0035      0.001     -2.670      0.008      -0.006      -0.001\n",
       "availability_90                                  0.0037      0.001      5.935      0.000       0.002       0.005\n",
       "availability_365                                 0.0002   4.48e-05      3.652      0.000    7.58e-05       0.000\n",
       "number_of_reviews                               -0.0003      0.000     -2.573      0.010      -0.001   -7.29e-05\n",
       "number_of_reviews_ltm                           -0.0009      0.001     -1.718      0.086      -0.002       0.000\n",
       "review_scores_rating                             0.0056      0.001      5.536      0.000       0.004       0.008\n",
       "review_scores_accuracy                           0.0010      0.008      0.122      0.903      -0.015       0.017\n",
       "review_scores_cleanliness                        0.0331      0.006      5.304      0.000       0.021       0.045\n",
       "review_scores_checkin                           -0.0559      0.008     -7.272      0.000      -0.071      -0.041\n",
       "review_scores_communication                      0.0175      0.008      2.181      0.029       0.002       0.033\n",
       "review_scores_location                           0.0450      0.007      6.136      0.000       0.031       0.059\n",
       "review_scores_value                             -0.0573      0.008     -7.412      0.000      -0.072      -0.042\n",
       "instant_bookable                                 0.0005      0.010      0.050      0.960      -0.019       0.020\n",
       "cancellation_policy                             -0.0085      0.004     -2.338      0.019      -0.016      -0.001\n",
       "require_guest_profile_picture                   -0.1000      0.045     -2.203      0.028      -0.189      -0.011\n",
       "require_guest_phone_verification                 0.0880      0.029      3.024      0.002       0.031       0.145\n",
       "calculated_host_listings_count                   0.0423      0.002     26.154      0.000       0.039       0.045\n",
       "calculated_host_listings_count_entire_homes     -0.0349      0.002    -21.724      0.000      -0.038      -0.032\n",
       "calculated_host_listings_count_private_rooms    -0.0580      0.002    -27.337      0.000      -0.062      -0.054\n",
       "calculated_host_listings_count_shared_rooms     -0.1583      0.011    -14.064      0.000      -0.180      -0.136\n",
       "reviews_per_month                               -0.0001      0.004     -0.031      0.975      -0.009       0.008\n",
       "sentiment_polarity                               0.2815      0.049      5.793      0.000       0.186       0.377\n",
       "sentiment_sub                                   -0.1679      0.042     -4.037      0.000      -0.249      -0.086\n",
       "==============================================================================\n",
       "Omnibus:                     5814.361   Durbin-Watson:                   1.632\n",
       "Prob(Omnibus):                  0.000   Jarque-Bera (JB):            61386.121\n",
       "Skew:                           1.437   Prob(JB):                         0.00\n",
       "Kurtosis:                      12.143   Cond. No.                     2.17e+09\n",
       "==============================================================================\n",
       "\n",
       "Warnings:\n",
       "[1] Standard Errors assume that the covariance matrix of the errors is correctly specified.\n",
       "[2] The condition number is large, 2.17e+09. This might indicate that there are\n",
       "strong multicollinearity or other numerical problems.\n",
       "\"\"\""
      ]
     },
     "execution_count": 95,
     "metadata": {},
     "output_type": "execute_result"
    }
   ],
   "source": [
    "model.summary()"
   ]
  },
  {
   "cell_type": "code",
   "execution_count": 96,
   "metadata": {},
   "outputs": [],
   "source": [
    "# model.summary2()"
   ]
  },
  {
   "cell_type": "code",
   "execution_count": 97,
   "metadata": {},
   "outputs": [],
   "source": [
    "from sklearn.linear_model import LinearRegression, LassoCV\n",
    "from sklearn.tree import DecisionTreeRegressor\n",
    "from sklearn.ensemble import RandomForestRegressor\n",
    "from sklearn.naive_bayes import GaussianNB\n",
    "from sklearn.metrics import mean_squared_error, mean_absolute_error\n",
    "from sklearn.neighbors import KNeighborsRegressor\n",
    "from sklearn.model_selection import train_test_split, GridSearchCV, KFold, cross_val_score\n"
   ]
  },
  {
   "cell_type": "code",
   "execution_count": 98,
   "metadata": {},
   "outputs": [],
   "source": [
    "def MLmodel(model,Xtrain,Xtest, ytrain,ytest ):\n",
    "    model.fit(Xtrain,ytrain)\n",
    "    pred = model.predict(Xtest)\n",
    "    train = model.score(Xtrain,ytrain)\n",
    "    test = model.score(Xtest,ytest)\n",
    "    \n",
    "#     scores = cross_val_score(model,X,y,cv = 5)\n",
    "#     print('cross validation mean score', scores.mean())\n",
    "    print('train score',train)\n",
    "    print('test score',test)\n",
    "    print('MSE', mean_squared_error(ytest,pred))\n",
    "    print('RMSE',np.sqrt(mean_squared_error(ytest,pred)))\n",
    "    print('MAE', mean_absolute_error(ytest,pred))"
   ]
  },
  {
   "cell_type": "code",
   "execution_count": 99,
   "metadata": {},
   "outputs": [],
   "source": [
    "lr = LinearRegression()"
   ]
  },
  {
   "cell_type": "code",
   "execution_count": 100,
   "metadata": {},
   "outputs": [
    {
     "name": "stdout",
     "output_type": "stream",
     "text": [
      "cross validation mean score -346196.93621687475\n"
     ]
    }
   ],
   "source": [
    "scores = cross_val_score(lr,X,y,cv = 5)\n",
    "print('cross validation mean score', scores.mean())"
   ]
  },
  {
   "cell_type": "code",
   "execution_count": 101,
   "metadata": {},
   "outputs": [],
   "source": [
    "\n",
    "X_train, X_test, y_train,y_test = train_test_split(X,y, test_size = 0.3, random_state = 0)"
   ]
  },
  {
   "cell_type": "code",
   "execution_count": 102,
   "metadata": {},
   "outputs": [
    {
     "name": "stdout",
     "output_type": "stream",
     "text": [
      "train score 0.5269492552161082\n",
      "test score 0.49084831731168665\n",
      "MSE 0.36087080366526975\n",
      "RMSE 0.600725231420547\n",
      "MAE 0.41424857606955345\n"
     ]
    }
   ],
   "source": [
    "lr = LinearRegression()\n",
    "\n",
    "MLmodel(lr,X_train, X_test, y_train,y_test)"
   ]
  },
  {
   "cell_type": "code",
   "execution_count": 25,
   "metadata": {},
   "outputs": [
    {
     "name": "stdout",
     "output_type": "stream",
     "text": [
      "train score 0.5078736965677858\n",
      "test score 0.4848270194550719\n",
      "MSE 0.36513851144372905\n",
      "RMSE 0.604266920692941\n",
      "MAE 0.4110528291060077\n"
     ]
    }
   ],
   "source": [
    "dt = DecisionTreeRegressor(max_depth= 3)\n",
    "\n",
    "MLmodel(dt,X_train, X_test, y_train,y_test)"
   ]
  },
  {
   "cell_type": "code",
   "execution_count": 26,
   "metadata": {},
   "outputs": [
    {
     "name": "stdout",
     "output_type": "stream",
     "text": [
      "train score 0.9237124003929971\n",
      "test score 0.6483006748494271\n",
      "MSE 0.24927349242075567\n",
      "RMSE 0.4992729638391765\n",
      "MAE 0.34135208766416075\n"
     ]
    }
   ],
   "source": [
    "rf = RandomForestRegressor(n_estimators= 5)\n",
    "\n",
    "MLmodel(rf,X_train,X_test,y_train,y_test)"
   ]
  },
  {
   "cell_type": "code",
   "execution_count": 27,
   "metadata": {},
   "outputs": [
    {
     "name": "stdout",
     "output_type": "stream",
     "text": [
      "train score 0.8054073900092329\n",
      "test score 0.39516478639946695\n",
      "MSE 0.4286883006349522\n",
      "RMSE 0.6547429271362557\n",
      "MAE 0.4574994784935116\n"
     ]
    }
   ],
   "source": [
    "knn = KNeighborsRegressor(n_neighbors= 2)\n",
    "\n",
    "MLmodel(knn,X_train,X_test,y_train,y_test)"
   ]
  },
  {
   "cell_type": "code",
   "execution_count": 28,
   "metadata": {},
   "outputs": [],
   "source": [
    "# nb = GaussianNB()\n",
    "\n",
    "# MLmodel(nb,X_train,X_test,y_train,y_test)\n"
   ]
  },
  {
   "cell_type": "code",
   "execution_count": 29,
   "metadata": {},
   "outputs": [],
   "source": [
    "from sklearn.linear_model import Ridge,Lasso\n"
   ]
  },
  {
   "cell_type": "code",
   "execution_count": 31,
   "metadata": {},
   "outputs": [
    {
     "name": "stderr",
     "output_type": "stream",
     "text": [
      "C:\\Users\\Admin\\Anaconda3\\lib\\site-packages\\sklearn\\model_selection\\_search.py:814: DeprecationWarning: The default of the `iid` parameter will change from True to False in version 0.22 and will be removed in 0.24. This will change numeric results when test-set sizes are unequal.\n",
      "  DeprecationWarning)\n"
     ]
    },
    {
     "data": {
      "text/plain": [
       "GridSearchCV(cv=5, error_score='raise-deprecating',\n",
       "             estimator=Ridge(alpha=1.0, copy_X=True, fit_intercept=True,\n",
       "                             max_iter=None, normalize=False, random_state=None,\n",
       "                             solver='auto', tol=0.001),\n",
       "             iid='warn', n_jobs=None,\n",
       "             param_grid={'alpha': array([1.00000000e-03, 2.64105263e-01, 5.27210526e-01, 7.90315789e-01,\n",
       "       1.05342105e+00, 1.31652632e+00, 1.57963158e+00, 1.84273684e+00,\n",
       "       2.10584211e+00, 2.36894737e+00, 2.63205263e+00, 2.89515789e+00,\n",
       "       3.15826316e+00, 3.42136842e+00, 3.68447368e+00, 3.94757895e+00,\n",
       "       4.21068421e+00, 4.47378947e+00, 4.73689474e+00, 5.00000000e+00])},\n",
       "             pre_dispatch='2*n_jobs', refit=True, return_train_score=False,\n",
       "             scoring=None, verbose=0)"
      ]
     },
     "execution_count": 31,
     "metadata": {},
     "output_type": "execute_result"
    }
   ],
   "source": [
    "params = {'alpha': np.linspace(0.001,5,20)}\n",
    "\n",
    "ri = Ridge()\n",
    "\n",
    "gs_ridge = GridSearchCV(ri,params,cv = 5)\n",
    "\n",
    "gs_ridge.fit(X,y)"
   ]
  },
  {
   "cell_type": "code",
   "execution_count": 32,
   "metadata": {},
   "outputs": [
    {
     "data": {
      "text/plain": [
       "Ridge(alpha=0.001, copy_X=True, fit_intercept=True, max_iter=None,\n",
       "      normalize=False, random_state=None, solver='auto', tol=0.001)"
      ]
     },
     "execution_count": 32,
     "metadata": {},
     "output_type": "execute_result"
    }
   ],
   "source": [
    "gs_ridge.best_estimator_"
   ]
  },
  {
   "cell_type": "code",
   "execution_count": 33,
   "metadata": {},
   "outputs": [
    {
     "name": "stdout",
     "output_type": "stream",
     "text": [
      "train score 0.5269492552123168\n",
      "test score 0.49084839531572877\n",
      "MSE 0.3608707483784421\n",
      "RMSE 0.6007251854038101\n",
      "MAE 0.41424851401213575\n"
     ]
    }
   ],
   "source": [
    "ridge = Ridge(alpha=0.001, copy_X=True, fit_intercept=True, max_iter=None,\n",
    "      normalize=False, random_state=0, solver='auto', tol=0.001)\n",
    "\n",
    "MLmodel(ridge,X_train,X_test,y_train,y_test)"
   ]
  },
  {
   "cell_type": "code",
   "execution_count": 34,
   "metadata": {
    "scrolled": true
   },
   "outputs": [],
   "source": [
    "# params = {'alpha': [0.00001,0.0001,0.001,0.01,0.1,0.5]}\n",
    "\n",
    "# la = Lasso()\n",
    "\n",
    "# gs_lasso = GridSearchCV(la,params,cv = 5)\n",
    "\n",
    "# gs_lasso.fit(X,y)"
   ]
  },
  {
   "cell_type": "code",
   "execution_count": 35,
   "metadata": {},
   "outputs": [],
   "source": [
    "# gs_lasso.best_estimator_"
   ]
  },
  {
   "cell_type": "code",
   "execution_count": 30,
   "metadata": {},
   "outputs": [
    {
     "name": "stdout",
     "output_type": "stream",
     "text": [
      "train score 0.5206980068869382\n",
      "test score 0.4854647045888918\n",
      "MSE 0.36468654014607577\n",
      "RMSE 0.6038928217374966\n",
      "MAE 0.4162559227442332\n"
     ]
    }
   ],
   "source": [
    "# lasso = \n",
    "from sklearn.linear_model import Lasso\n",
    "lasso = Lasso(0.0001)\n",
    "\n",
    "\n",
    "MLmodel(lasso,X_train,X_test,y_train,y_test)"
   ]
  },
  {
   "cell_type": "code",
   "execution_count": 31,
   "metadata": {},
   "outputs": [
    {
     "name": "stdout",
     "output_type": "stream",
     "text": [
      "Best alpha using built-in LassoCV: 69.399180\n",
      "Best score using built-in LassoCV: 0.000012\n"
     ]
    }
   ],
   "source": [
    "reg = LassoCV()\n",
    "reg.fit(X, y)\n",
    "print(\"Best alpha using built-in LassoCV: %f\" % reg.alpha_)\n",
    "print(\"Best score using built-in LassoCV: %f\" %reg.score(X,y))\n",
    "coef = pd.Series(reg.coef_, index = X.columns)"
   ]
  },
  {
   "cell_type": "code",
   "execution_count": 38,
   "metadata": {},
   "outputs": [
    {
     "name": "stdout",
     "output_type": "stream",
     "text": [
      "Lasso picked 2 variables and eliminated the other 50 variables\n"
     ]
    }
   ],
   "source": [
    "print(\"Lasso picked \" + str(sum(coef != 0)) + \" variables and eliminated the other \" +  str(sum(coef == 0)) + \" variables\")"
   ]
  },
  {
   "cell_type": "code",
   "execution_count": 39,
   "metadata": {},
   "outputs": [
    {
     "data": {
      "text/plain": [
       "Text(0.5, 1.0, 'Feature importance using Lasso Model')"
      ]
     },
     "execution_count": 39,
     "metadata": {},
     "output_type": "execute_result"
    },
    {
     "data": {
      "image/png": "[encoded data removed]",
      "text/plain": [
       "<Figure size 576x720 with 1 Axes>"
      ]
     },
     "metadata": {
      "needs_background": "light"
     },
     "output_type": "display_data"
    }
   ],
   "source": [
    "imp_coef = coef.sort_values()\n",
    "import matplotlib\n",
    "matplotlib.rcParams['figure.figsize'] = (8.0, 10.0)\n",
    "imp_coef.plot(kind = \"barh\")\n",
    "plt.title(\"Feature importance using Lasso Model\")\n"
   ]
  },
  {
   "cell_type": "code",
   "execution_count": 103,
   "metadata": {},
   "outputs": [],
   "source": [
    "import xgboost\n",
    "from sklearn.metrics import explained_variance_score"
   ]
  },
  {
   "cell_type": "code",
   "execution_count": 104,
   "metadata": {},
   "outputs": [],
   "source": [
    "xgb = xgboost.XGBRegressor(n_estimators=250, learning_rate=0.08, gamma=0, subsample=0.75,\n",
    "                           colsample_bytree=1, max_depth=5)"
   ]
  },
  {
   "cell_type": "code",
   "execution_count": 105,
   "metadata": {},
   "outputs": [
    {
     "name": "stdout",
     "output_type": "stream",
     "text": [
      "[10:28:00] WARNING: C:/Jenkins/workspace/xgboost-win64_release_0.90/src/objective/regression_obj.cu:152: reg:linear is now deprecated in favor of reg:squarederror.\n"
     ]
    },
    {
     "data": {
      "text/plain": [
       "XGBRegressor(base_score=0.5, booster='gbtree', colsample_bylevel=1,\n",
       "             colsample_bynode=1, colsample_bytree=1, gamma=0,\n",
       "             importance_type='gain', learning_rate=0.08, max_delta_step=0,\n",
       "             max_depth=5, min_child_weight=1, missing=None, n_estimators=250,\n",
       "             n_jobs=1, nthread=None, objective='reg:linear', random_state=0,\n",
       "             reg_alpha=0, reg_lambda=1, scale_pos_weight=1, seed=None,\n",
       "             silent=None, subsample=0.75, verbosity=1)"
      ]
     },
     "execution_count": 105,
     "metadata": {},
     "output_type": "execute_result"
    }
   ],
   "source": [
    "xgb.fit(X_train,y_train)"
   ]
  },
  {
   "cell_type": "code",
   "execution_count": 106,
   "metadata": {},
   "outputs": [
    {
     "name": "stdout",
     "output_type": "stream",
     "text": [
      "0.7610451163180598\n"
     ]
    }
   ],
   "source": [
    "predictions = xgb.predict(X_test)\n",
    "print(explained_variance_score(y_test,predictions))"
   ]
  },
  {
   "cell_type": "code",
   "execution_count": 107,
   "metadata": {},
   "outputs": [
    {
     "name": "stdout",
     "output_type": "stream",
     "text": [
      "[10:28:31] WARNING: C:/Jenkins/workspace/xgboost-win64_release_0.90/src/objective/regression_obj.cu:152: reg:linear is now deprecated in favor of reg:squarederror.\n",
      "train score 0.8621060852348769\n",
      "test score 0.761008318685627\n",
      "MSE 0.16938983614835343\n",
      "RMSE 0.41156996507076826\n",
      "MAE 0.29164335950774434\n"
     ]
    }
   ],
   "source": [
    "MLmodel(xgb,X_train,X_test,y_train,y_test)   # it got less accuracy"
   ]
  },
  {
   "cell_type": "code",
   "execution_count": 39,
   "metadata": {},
   "outputs": [
    {
     "name": "stdout",
     "output_type": "stream",
     "text": [
      "Accuracy: 76.10%\n"
     ]
    }
   ],
   "source": [
    "accuracy = explained_variance_score(y_test, predictions)\n",
    "print(\"Accuracy: %.2f%%\" % (accuracy * 100.0))"
   ]
  },
  {
   "cell_type": "code",
   "execution_count": 40,
   "metadata": {},
   "outputs": [],
   "source": [
    "from sklearn.ensemble import AdaBoostRegressor"
   ]
  },
  {
   "cell_type": "code",
   "execution_count": 47,
   "metadata": {},
   "outputs": [
    {
     "data": {
      "text/plain": [
       "AdaBoostRegressor(base_estimator=DecisionTreeRegressor(criterion='mse',\n",
       "                                                       max_depth=3,\n",
       "                                                       max_features=None,\n",
       "                                                       max_leaf_nodes=None,\n",
       "                                                       min_impurity_decrease=0.0,\n",
       "                                                       min_impurity_split=None,\n",
       "                                                       min_samples_leaf=1,\n",
       "                                                       min_samples_split=2,\n",
       "                                                       min_weight_fraction_leaf=0.0,\n",
       "                                                       presort=False,\n",
       "                                                       random_state=None,\n",
       "                                                       splitter='best'),\n",
       "                  learning_rate=0.08, loss='linear', n_estimators=20,\n",
       "                  random_state=0)"
      ]
     },
     "execution_count": 47,
     "metadata": {},
     "output_type": "execute_result"
    }
   ],
   "source": [
    "ada_clf=AdaBoostRegressor(dt , learning_rate=0.08, loss='linear',\n",
    "        n_estimators=20, random_state=0)\n",
    "ada_clf.fit(X_train, y_train)"
   ]
  },
  {
   "cell_type": "code",
   "execution_count": 48,
   "metadata": {},
   "outputs": [
    {
     "data": {
      "text/plain": [
       "0.49693828469455814"
      ]
     },
     "execution_count": 48,
     "metadata": {},
     "output_type": "execute_result"
    }
   ],
   "source": [
    "ada_clf.score(X_test, y_test)"
   ]
  },
  {
   "cell_type": "code",
   "execution_count": 49,
   "metadata": {},
   "outputs": [
    {
     "data": {
      "text/plain": [
       "0.5187597849981012"
      ]
     },
     "execution_count": 49,
     "metadata": {},
     "output_type": "execute_result"
    }
   ],
   "source": [
    "ada_clf.score(X_train, y_train)"
   ]
  },
  {
   "cell_type": "code",
   "execution_count": 50,
   "metadata": {},
   "outputs": [
    {
     "name": "stdout",
     "output_type": "stream",
     "text": [
      "train score 0.5187597849981012\n",
      "test score 0.49693828469455814\n",
      "MSE 0.35655442507225726\n",
      "RMSE 0.5971217841213443\n",
      "MAE 0.41036996216546934\n"
     ]
    }
   ],
   "source": [
    "MLmodel(ada_clf,X_train,X_test,y_train,y_test)   # it got less accuracy"
   ]
  },
  {
   "cell_type": "code",
   "execution_count": 108,
   "metadata": {},
   "outputs": [],
   "source": [
    "from sklearn.ensemble import GradientBoostingRegressor, VotingRegressor"
   ]
  },
  {
   "cell_type": "code",
   "execution_count": 109,
   "metadata": {},
   "outputs": [],
   "source": [
    "gr = GradientBoostingRegressor(learning_rate = 0.08)\n",
    "\n",
    "\n",
    "est = [('Gradboos', gr), ('xgb', xgb)]\n",
    "# wei = [ 0.5,  0.5]\n",
    "\n",
    "vr_weight = VotingRegressor(est)"
   ]
  },
  {
   "cell_type": "code",
   "execution_count": 110,
   "metadata": {},
   "outputs": [
    {
     "name": "stdout",
     "output_type": "stream",
     "text": [
      "train score 0.6949999366378933\n",
      "test score 0.6546047509405805\n",
      "MSE 0.2448053602653834\n",
      "RMSE 0.49477809194161315\n",
      "MAE 0.3392081997968661\n"
     ]
    }
   ],
   "source": [
    "MLmodel(gr,X_train,X_test,y_train,y_test)"
   ]
  },
  {
   "cell_type": "code",
   "execution_count": 111,
   "metadata": {},
   "outputs": [
    {
     "name": "stdout",
     "output_type": "stream",
     "text": [
      "[10:28:50] WARNING: C:/Jenkins/workspace/xgboost-win64_release_0.90/src/objective/regression_obj.cu:152: reg:linear is now deprecated in favor of reg:squarederror.\n",
      "train score 0.7992478995422487\n",
      "test score 0.7233464897227877\n",
      "MSE 0.19608336373047425\n",
      "RMSE 0.4428130121512626\n",
      "MAE 0.3102608957315311\n"
     ]
    }
   ],
   "source": [
    "MLmodel(vr_weight,X_train,X_test,y_train,y_test)"
   ]
  },
  {
   "cell_type": "markdown",
   "metadata": {},
   "source": [
    "##### Ridge alpha fixing:"
   ]
  },
  {
   "cell_type": "code",
   "execution_count": 47,
   "metadata": {},
   "outputs": [
    {
     "name": "stdout",
     "output_type": "stream",
     "text": [
      "All errors are RMSE\n",
      "----------------------------------------------------------------------------\n",
      "alpha:   0.001 | train error: 0.322 | test error:   0.361 | rmse : 0.601\n",
      "alpha:    0.01 | train error: 0.322 | test error:   0.361 | rmse : 0.601\n",
      "alpha:     0.1 | train error: 0.322 | test error:   0.361 | rmse : 0.601\n",
      "alpha:       1 | train error: 0.322 | test error:   0.361 | rmse : 0.601\n",
      "alpha:       2 | train error: 0.322 | test error:   0.361 | rmse : 0.601\n",
      "alpha:       3 | train error: 0.322 | test error:   0.361 | rmse : 0.601\n",
      "alpha:       5 | train error: 0.322 | test error:   0.361 | rmse : 0.601\n",
      "alpha:       9 | train error: 0.322 | test error:   0.361 | rmse : 0.6\n",
      "alpha:      15 | train error: 0.322 | test error:    0.36 | rmse : 0.6\n",
      "alpha:      30 | train error: 0.322 | test error:    0.36 | rmse : 0.6\n",
      "alpha:     100 | train error: 0.323 | test error:    0.36 | rmse : 0.6\n"
     ]
    }
   ],
   "source": [
    "alphas = [0.001, 0.01, 0.1, 1,2,3, 5,9,15,30,100 ]\n",
    "print('All errors are RMSE')\n",
    "print('-'*76)\n",
    "for alpha in alphas:\n",
    "    # instantiate and fit model\n",
    "    ridge = Ridge(alpha=alpha, fit_intercept=True, random_state=99)\n",
    "    ridge.fit(X_train, y_train)\n",
    "    # calculate errors\n",
    "    new_train_error = mean_squared_error(y_train, ridge.predict(X_train))\n",
    "#     new_validation_error = mean_squared_error(y_validation, ridge.predict(X_validation))\n",
    "    new_test_error = mean_squared_error(y_test, ridge.predict(X_test))\n",
    "    rmse_new = np.sqrt(new_test_error)\n",
    "    # print errors as report\n",
    "    print('alpha: {:7} | train error: {:5} | test error: {:7} | rmse : {}'.\n",
    "          format(alpha,\n",
    "                 round(new_train_error,3),\n",
    "#                  round(new_validation_error,3),\n",
    "                 round(new_test_error,3),\n",
    "           round(rmse_new,3))\n",
    "         )"
   ]
  },
  {
   "cell_type": "code",
   "execution_count": 48,
   "metadata": {},
   "outputs": [
    {
     "name": "stdout",
     "output_type": "stream",
     "text": [
      "train score 0.5269492501169345\n",
      "test score 0.4908546100949299\n",
      "MSE 0.3608663435371321\n",
      "RMSE 0.6007215191227396\n",
      "MAE 0.4142450652700879\n"
     ]
    }
   ],
   "source": [
    "# from sklearn.metrics \n",
    "\n",
    "# instantiate model\n",
    "ridge = Ridge(alpha=0.1, fit_intercept=True, random_state=99)\n",
    "\n",
    "# fit and calculate errors\n",
    "MLmodel(ridge,X_train,X_test,y_train,y_test)"
   ]
  },
  {
   "cell_type": "code",
   "execution_count": 49,
   "metadata": {},
   "outputs": [
    {
     "name": "stdout",
     "output_type": "stream",
     "text": [
      "All errors are RMSE\n",
      "----------------------------------------------------------------------------\n",
      "alpha:   1e-05 | train error: 0.322 | test error:   0.361 | rmse : 0.601\n",
      "alpha:  0.0001 | train error: 0.322 | test error:   0.361 | rmse : 0.601\n",
      "alpha:   0.001 | train error: 0.322 | test error:   0.361 | rmse : 0.601\n",
      "alpha:    0.01 | train error: 0.322 | test error:   0.361 | rmse : 0.601\n",
      "alpha:     0.1 | train error: 0.322 | test error:   0.361 | rmse : 0.601\n",
      "alpha:       1 | train error: 0.322 | test error:   0.361 | rmse : 0.601\n",
      "alpha:       2 | train error: 0.322 | test error:   0.361 | rmse : 0.601\n",
      "alpha:       3 | train error: 0.322 | test error:   0.361 | rmse : 0.601\n",
      "alpha:       5 | train error: 0.322 | test error:   0.361 | rmse : 0.601\n",
      "alpha:       9 | train error: 0.322 | test error:   0.361 | rmse : 0.601\n",
      "alpha:      15 | train error: 0.322 | test error:   0.361 | rmse : 0.601\n",
      "alpha:      30 | train error: 0.322 | test error:   0.361 | rmse : 0.601\n",
      "alpha:     100 | train error: 0.322 | test error:   0.361 | rmse : 0.601\n"
     ]
    }
   ],
   "source": [
    "alphas = [0.00001,0.0001,0.001, 0.01, 0.1, 1,2,3, 5,9,15,30,100 ]\n",
    "print('All errors are RMSE')\n",
    "print('-'*76)\n",
    "for alpha in alphas:\n",
    "    # instantiate and fit model\n",
    "    las = Lasso(alpha=alpha, fit_intercept=True, random_state=99)\n",
    "    las.fit(X_train, y_train)\n",
    "    # calculate errors\n",
    "    new_train_error = mean_squared_error(y_train, ridge.predict(X_train))\n",
    "#     new_validation_error = mean_squared_error(y_validation, ridge.predict(X_validation))\n",
    "    new_test_error = mean_squared_error(y_test, ridge.predict(X_test))\n",
    "    rmse_new = np.sqrt(new_test_error)\n",
    "    # print errors as report\n",
    "    print('alpha: {:7} | train error: {:5} | test error: {:7} | rmse : {}'.\n",
    "          format(alpha,\n",
    "                 round(new_train_error,3),\n",
    "#                  round(new_validation_error,3),\n",
    "                 round(new_test_error,3),\n",
    "           round(rmse_new,3))\n",
    "         )"
   ]
  },
  {
   "cell_type": "code",
   "execution_count": 50,
   "metadata": {},
   "outputs": [],
   "source": [
    "# print('ORIGINAL ERROR')\n",
    "# print('-' * 40)\n",
    "# print('train error: {} | test error: {}\\n'.format(train_error, test_error))\n",
    "# print('ERROR w/REGULARIZATION')\n",
    "# print('-' * 40)\n",
    "# print('train error: {} | test error: {}'.format(new_train_error, new_test_error))"
   ]
  },
  {
   "cell_type": "code",
   "execution_count": 51,
   "metadata": {},
   "outputs": [],
   "source": [
    "from sklearn.model_selection import cross_val_score, cross_val_predict"
   ]
  },
  {
   "cell_type": "code",
   "execution_count": 52,
   "metadata": {},
   "outputs": [
    {
     "name": "stdout",
     "output_type": "stream",
     "text": [
      "[11:39:18] WARNING: C:/Jenkins/workspace/xgboost-win64_release_0.90/src/objective/regression_obj.cu:152: reg:linear is now deprecated in favor of reg:squarederror.\n",
      "[11:39:40] WARNING: C:/Jenkins/workspace/xgboost-win64_release_0.90/src/objective/regression_obj.cu:152: reg:linear is now deprecated in favor of reg:squarederror.\n",
      "[11:40:00] WARNING: C:/Jenkins/workspace/xgboost-win64_release_0.90/src/objective/regression_obj.cu:152: reg:linear is now deprecated in favor of reg:squarederror.\n",
      "[11:40:21] WARNING: C:/Jenkins/workspace/xgboost-win64_release_0.90/src/objective/regression_obj.cu:152: reg:linear is now deprecated in favor of reg:squarederror.\n",
      "[11:40:41] WARNING: C:/Jenkins/workspace/xgboost-win64_release_0.90/src/objective/regression_obj.cu:152: reg:linear is now deprecated in favor of reg:squarederror.\n",
      "cross validation mean score 0.6756532751471147\n"
     ]
    }
   ],
   "source": [
    "scores = cross_val_score(xgb,X,y,cv = 5)\n",
    "print('cross validation mean score', scores.mean())"
   ]
  },
  {
   "cell_type": "code",
   "execution_count": 53,
   "metadata": {},
   "outputs": [
    {
     "data": {
      "text/plain": [
       "(16038, 52)"
      ]
     },
     "execution_count": 53,
     "metadata": {},
     "output_type": "execute_result"
    }
   ],
   "source": [
    "X.shape"
   ]
  },
  {
   "cell_type": "code",
   "execution_count": 54,
   "metadata": {},
   "outputs": [
    {
     "name": "stdout",
     "output_type": "stream",
     "text": [
      "[11:41:02] WARNING: C:/Jenkins/workspace/xgboost-win64_release_0.90/src/objective/regression_obj.cu:152: reg:linear is now deprecated in favor of reg:squarederror.\n",
      "[11:41:26] WARNING: C:/Jenkins/workspace/xgboost-win64_release_0.90/src/objective/regression_obj.cu:152: reg:linear is now deprecated in favor of reg:squarederror.\n",
      "[11:41:49] WARNING: C:/Jenkins/workspace/xgboost-win64_release_0.90/src/objective/regression_obj.cu:152: reg:linear is now deprecated in favor of reg:squarederror.\n",
      "[11:42:12] WARNING: C:/Jenkins/workspace/xgboost-win64_release_0.90/src/objective/regression_obj.cu:152: reg:linear is now deprecated in favor of reg:squarederror.\n",
      "[11:42:37] WARNING: C:/Jenkins/workspace/xgboost-win64_release_0.90/src/objective/regression_obj.cu:152: reg:linear is now deprecated in favor of reg:squarederror.\n",
      "[11:43:00] WARNING: C:/Jenkins/workspace/xgboost-win64_release_0.90/src/objective/regression_obj.cu:152: reg:linear is now deprecated in favor of reg:squarederror.\n",
      "[11:43:25] WARNING: C:/Jenkins/workspace/xgboost-win64_release_0.90/src/objective/regression_obj.cu:152: reg:linear is now deprecated in favor of reg:squarederror.\n",
      "[11:43:48] WARNING: C:/Jenkins/workspace/xgboost-win64_release_0.90/src/objective/regression_obj.cu:152: reg:linear is now deprecated in favor of reg:squarederror.\n",
      "[11:44:12] WARNING: C:/Jenkins/workspace/xgboost-win64_release_0.90/src/objective/regression_obj.cu:152: reg:linear is now deprecated in favor of reg:squarederror.\n",
      "[11:44:36] WARNING: C:/Jenkins/workspace/xgboost-win64_release_0.90/src/objective/regression_obj.cu:152: reg:linear is now deprecated in favor of reg:squarederror.\n"
     ]
    }
   ],
   "source": [
    "xgb_array = cross_val_predict(xgb, X, y, cv=10)"
   ]
  },
  {
   "cell_type": "code",
   "execution_count": 55,
   "metadata": {},
   "outputs": [
    {
     "data": {
      "text/plain": [
       "array([5.1137614, 4.762675 , 3.584171 , ..., 3.89722  , 4.0398397,\n",
       "       4.02894  ], dtype=float32)"
      ]
     },
     "execution_count": 55,
     "metadata": {},
     "output_type": "execute_result"
    }
   ],
   "source": [
    "xgb_array"
   ]
  },
  {
   "cell_type": "code",
   "execution_count": 113,
   "metadata": {},
   "outputs": [
    {
     "name": "stdout",
     "output_type": "stream",
     "text": [
      "0.6949999366378932\n",
      "0.6546211337181876\n"
     ]
    }
   ],
   "source": [
    "from sklearn.ensemble import GradientBoostingRegressor\n",
    "grad = GradientBoostingRegressor(learning_rate=0.08)\n",
    "grad.fit(X_train,y_train)\n",
    "print(grad.score(X_train,y_train))\n",
    "print(grad.score(X_test,y_test))"
   ]
  },
  {
   "cell_type": "code",
   "execution_count": 114,
   "metadata": {},
   "outputs": [
    {
     "name": "stdout",
     "output_type": "stream",
     "text": [
      "[10:29:48] WARNING: C:/Jenkins/workspace/xgboost-win64_release_0.90/src/objective/regression_obj.cu:152: reg:linear is now deprecated in favor of reg:squarederror.\n",
      "0.7992478995422487\n",
      "0.7234023817086125\n"
     ]
    }
   ],
   "source": [
    "from sklearn.ensemble import GradientBoostingRegressor,VotingRegressor\n",
    "vr = VotingRegressor([('Gradboos', grad), ('xgb', xgb)])\n",
    "vr.fit(X_train,y_train)\n",
    "print(vr.score(X_train,y_train))\n",
    "print(vr.score(X_test,y_test))"
   ]
  },
  {
   "cell_type": "code",
   "execution_count": 115,
   "metadata": {},
   "outputs": [
    {
     "name": "stdout",
     "output_type": "stream",
     "text": [
      "[10:29:59] WARNING: C:/Jenkins/workspace/xgboost-win64_release_0.90/src/objective/regression_obj.cu:152: reg:linear is now deprecated in favor of reg:squarederror.\n",
      "train score 0.7992478995422487\n",
      "test score 0.7234198772804481\n",
      "MSE 0.19603134892268245\n",
      "RMSE 0.44275427600722556\n",
      "MAE 0.3102203511602731\n"
     ]
    }
   ],
   "source": [
    "MLmodel(vr,X_train,X_test,y_train,y_test)"
   ]
  },
  {
   "cell_type": "code",
   "execution_count": 62,
   "metadata": {},
   "outputs": [
    {
     "name": "stdout",
     "output_type": "stream",
     "text": [
      "[14:32:52] WARNING: C:/Jenkins/workspace/xgboost-win64_release_0.90/src/objective/regression_obj.cu:152: reg:linear is now deprecated in favor of reg:squarederror.\n",
      "0.7992478995422487\n",
      "0.7234009655145806\n",
      "0.44276941289051314\n",
      "0.1960447529914097\n",
      "0.3102067565873704\n"
     ]
    }
   ],
   "source": [
    "from sklearn.ensemble import GradientBoostingRegressor,VotingRegressor\n",
    "est = [('Gradboos', gr), ('xgb', xgb)]\n",
    "wei = [ 0.5, 0.5]\n",
    "\n",
    "vr_weight = VotingRegressor(est)\n",
    "\n",
    "\n",
    "vr_weight.fit(X_train,y_train)\n",
    "\n",
    "y_pred = vr_weight.predict(X_test)\n",
    "\n",
    "print(vr_weight.score(X_train,y_train))\n",
    "print(vr_weight.score(X_test,y_test))\n",
    "print(np.sqrt(mean_squared_error(y_test,y_pred)))\n",
    "print(mean_squared_error(y_test,y_pred))\n",
    "print(mean_absolute_error(y_test,y_pred))"
   ]
  },
  {
   "cell_type": "code",
   "execution_count": 60,
   "metadata": {},
   "outputs": [
    {
     "name": "stdout",
     "output_type": "stream",
     "text": [
      "0.2\n",
      "[11:46:21] WARNING: C:/Jenkins/workspace/xgboost-win64_release_0.90/src/objective/regression_obj.cu:152: reg:linear is now deprecated in favor of reg:squarederror.\n",
      "0.7992478995422487\n",
      "0.723374261380562\n",
      "0.4\n",
      "[11:46:45] WARNING: C:/Jenkins/workspace/xgboost-win64_release_0.90/src/objective/regression_obj.cu:152: reg:linear is now deprecated in favor of reg:squarederror.\n",
      "0.7992478995422487\n",
      "0.7234231869222044\n",
      "0.6\n",
      "[11:47:08] WARNING: C:/Jenkins/workspace/xgboost-win64_release_0.90/src/objective/regression_obj.cu:152: reg:linear is now deprecated in favor of reg:squarederror.\n",
      "0.7992478995422487\n",
      "0.7233513757535464\n",
      "0.8\n",
      "[11:47:32] WARNING: C:/Jenkins/workspace/xgboost-win64_release_0.90/src/objective/regression_obj.cu:152: reg:linear is now deprecated in favor of reg:squarederror.\n",
      "0.7992478995422487\n",
      "0.7233581794500381\n"
     ]
    }
   ],
   "source": [
    "for i in [0.2,0.4,0.6,0.8]:\n",
    "    est = [('Gradboos', grad), ('xgb', xgb)]\n",
    "    wei = [('Gradboos', i), ('xgb', 1-i)]\n",
    "\n",
    "    vr_weight = VotingRegressor(est, wei)\n",
    "    print(i)\n",
    "\n",
    "    vr.fit(X_train,y_train)\n",
    "    print(vr.score(X_train,y_train))\n",
    "    print(vr.score(X_test,y_test))"
   ]
  },
  {
   "cell_type": "code",
   "execution_count": 61,
   "metadata": {},
   "outputs": [
    {
     "data": {
      "text/plain": [
       "<matplotlib.axes._subplots.AxesSubplot at 0x1fadee62e10>"
      ]
     },
     "execution_count": 61,
     "metadata": {},
     "output_type": "execute_result"
    },
    {
     "data": {
      "image/png": "[encoded data removed]",
      "text/plain": [
       "<Figure size 576x720 with 1 Axes>"
      ]
     },
     "metadata": {
      "needs_background": "light"
     },
     "output_type": "display_data"
    }
   ],
   "source": [
    "sns.distplot(daf.sentiment_polarity)"
   ]
  },
  {
   "cell_type": "code",
   "execution_count": 62,
   "metadata": {},
   "outputs": [
    {
     "data": {
      "text/plain": [
       "<matplotlib.axes._subplots.AxesSubplot at 0x1fadf265080>"
      ]
     },
     "execution_count": 62,
     "metadata": {},
     "output_type": "execute_result"
    },
    {
     "data": {
      "image/png": "[encoded data removed]",
      "text/plain": [
       "<Figure size 576x720 with 1 Axes>"
      ]
     },
     "metadata": {
      "needs_background": "light"
     },
     "output_type": "display_data"
    }
   ],
   "source": [
    "sns.distplot(daf.sentiment_sub)"
   ]
  },
  {
   "cell_type": "markdown",
   "metadata": {},
   "source": [
    "#### Polynomial Features"
   ]
  },
  {
   "cell_type": "code",
   "execution_count": 63,
   "metadata": {},
   "outputs": [],
   "source": [
    "from sklearn.preprocessing import PolynomialFeatures"
   ]
  },
  {
   "cell_type": "code",
   "execution_count": null,
   "metadata": {},
   "outputs": [
    {
     "name": "stdout",
     "output_type": "stream",
     "text": [
      "2\n",
      "train score 0.9184753288734602\n",
      "test score 0.6483580301158864\n",
      "MSE 0.24923284080001987\n",
      "RMSE 0.4992322513620488\n",
      "MAE 0.34379974113714706\n",
      "None\n",
      "3\n"
     ]
    }
   ],
   "source": [
    "\n",
    "# for i in [2,3,4,5]:\n",
    "#     print(i)\n",
    "#     polynomial_features= PolynomialFeatures(degree= i )\n",
    "#     x_poly = polynomial_features.fit_transform(X)\n",
    "#     X_train_poly, X_test_Poly, y_train_poly, y_test_poly = train_test_split(x_poly, y, test_size = 0.3, random_state = 0 )\n",
    "#     print(MLmodel(rf,X_train_poly, X_test_Poly, y_train_poly, y_test_poly ))"
   ]
  },
  {
   "cell_type": "code",
   "execution_count": 2,
   "metadata": {},
   "outputs": [
    {
     "ename": "NameError",
     "evalue": "name 'vr_weight' is not defined",
     "output_type": "error",
     "traceback": [
      "\u001b[1;31m---------------------------------------------------------------------------\u001b[0m",
      "\u001b[1;31mNameError\u001b[0m                                 Traceback (most recent call last)",
      "\u001b[1;32m<ipython-input-2-598d6bd2b164>\u001b[0m in \u001b[0;36m<module>\u001b[1;34m\u001b[0m\n\u001b[1;32m----> 1\u001b[1;33m \u001b[0mvr_weight\u001b[0m\u001b[1;33m.\u001b[0m\u001b[0mpredict\u001b[0m\u001b[1;33m(\u001b[0m\u001b[0mX_test\u001b[0m\u001b[1;33m)\u001b[0m\u001b[1;33m\u001b[0m\u001b[1;33m\u001b[0m\u001b[0m\n\u001b[0m",
      "\u001b[1;31mNameError\u001b[0m: name 'vr_weight' is not defined"
     ]
    }
   ],
   "source": [
    "vr_weight.predict(X_test)"
   ]
  },
  {
   "cell_type": "code",
   "execution_count": 116,
   "metadata": {
    "scrolled": true
   },
   "outputs": [
    {
     "name": "stdout",
     "output_type": "stream",
     "text": [
      "[10:55:22] WARNING: C:/Jenkins/workspace/xgboost-win64_release_0.90/src/objective/regression_obj.cu:152: reg:linear is now deprecated in favor of reg:squarederror.\n",
      "train score 0.7992478995422487\n",
      "test score 0.7233660602692931\n",
      "MSE 0.19606949273861532\n",
      "RMSE 0.44279734951624916\n",
      "MAE 0.3102099194038643\n"
     ]
    }
   ],
   "source": [
    "vr_weight.fit(X_train,y_train)\n",
    "pred = vr_weight.predict(X_test)\n",
    "train = vr_weight.score(X_train,y_train)\n",
    "test = vr_weight.score(X_test,y_test)\n",
    "    \n",
    "#     scores = cross_val_score(model,X,y,cv = 5)\n",
    "#     print('cross validation mean score', scores.mean())\n",
    "print('train score',train)\n",
    "print('test score',test)\n",
    "print('MSE', mean_squared_error(y_test,pred))\n",
    "print('RMSE',np.sqrt(mean_squared_error(y_test,pred)))\n",
    "print('MAE', mean_absolute_error(y_test,pred))"
   ]
  },
  {
   "cell_type": "code",
   "execution_count": 117,
   "metadata": {},
   "outputs": [],
   "source": [
    "main_pred = vr_weight.predict(X)"
   ]
  },
  {
   "cell_type": "markdown",
   "metadata": {},
   "source": [
    "##### Mapping log price to original price "
   ]
  },
  {
   "cell_type": "code",
   "execution_count": 217,
   "metadata": {},
   "outputs": [],
   "source": [
    "df['pred_price'] = np.exp(main_pred)"
   ]
  },
  {
   "cell_type": "code",
   "execution_count": 218,
   "metadata": {},
   "outputs": [],
   "source": [
    "df['log_pred_price']  = main_pred"
   ]
  },
  {
   "cell_type": "code",
   "execution_count": 219,
   "metadata": {},
   "outputs": [],
   "source": [
    "q1 = df.price.quantile(0.25)\n",
    "q3 = df.price.quantile(0.75)\n",
    "\n",
    "iqr = q3 - q1\n",
    "\n",
    "lo = q1 - 1.5* iqr\n",
    "ho = q3 + 1.5* iqr"
   ]
  },
  {
   "cell_type": "code",
   "execution_count": 220,
   "metadata": {},
   "outputs": [
    {
     "data": {
      "text/plain": [
       "(14788, 57)"
      ]
     },
     "execution_count": 220,
     "metadata": {},
     "output_type": "execute_result"
    }
   ],
   "source": [
    "df_in = df[~((df.price < lo) | (df.price > ho))]\n",
    "df_in.shape"
   ]
  },
  {
   "cell_type": "code",
   "execution_count": 221,
   "metadata": {},
   "outputs": [],
   "source": [
    "# df_in['profit'] = df_in.pred_price - df_in.price"
   ]
  },
  {
   "cell_type": "code",
   "execution_count": 222,
   "metadata": {},
   "outputs": [],
   "source": [
    "# df_in['profit'].describe()"
   ]
  },
  {
   "cell_type": "code",
   "execution_count": 226,
   "metadata": {},
   "outputs": [
    {
     "data": {
      "text/plain": [
       "4.233097627922132"
      ]
     },
     "execution_count": 226,
     "metadata": {},
     "output_type": "execute_result"
    }
   ],
   "source": [
    "df['log_pred_price'].mean()"
   ]
  },
  {
   "cell_type": "code",
   "execution_count": 1,
   "metadata": {},
   "outputs": [],
   "source": [
    "import scipy.stats as stats "
   ]
  },
  {
   "cell_type": "code",
   "execution_count": 229,
   "metadata": {},
   "outputs": [],
   "source": [
    "lci , uci = stats.norm.interval(0.8,loc = df_in['log_pred_price'].mean(), scale = df['log_pred_price'].std())"
   ]
  },
  {
   "cell_type": "code",
   "execution_count": 230,
   "metadata": {},
   "outputs": [
    {
     "name": "stdout",
     "output_type": "stream",
     "text": [
      "3.2814599358145644 4.96861906555078\n"
     ]
    }
   ],
   "source": [
    "print(lci,uci)"
   ]
  },
  {
   "cell_type": "code",
   "execution_count": 231,
   "metadata": {},
   "outputs": [
    {
     "name": "stdout",
     "output_type": "stream",
     "text": [
      "26.614599957994177 68.93042261281924 143.8281329455367\n"
     ]
    }
   ],
   "source": [
    "print(np.exp(lci),np.exp(main_pred.mean()),np.exp(uci))"
   ]
  },
  {
   "cell_type": "code",
   "execution_count": 232,
   "metadata": {},
   "outputs": [
    {
     "data": {
      "text/plain": [
       "68.93042261281924"
      ]
     },
     "execution_count": 232,
     "metadata": {},
     "output_type": "execute_result"
    }
   ],
   "source": [
    "np.exp(main_pred.mean())"
   ]
  },
  {
   "cell_type": "code",
   "execution_count": 214,
   "metadata": {},
   "outputs": [
    {
     "data": {
      "text/plain": [
       "<matplotlib.axes._subplots.AxesSubplot at 0x262d4a14b38>"
      ]
     },
     "execution_count": 214,
     "metadata": {},
     "output_type": "execute_result"
    },
    {
     "data": {
      "image/png": "[encoded data removed]",
      "text/plain": [
       "<Figure size 432x288 with 1 Axes>"
      ]
     },
     "metadata": {
      "needs_background": "light"
     },
     "output_type": "display_data"
    }
   ],
   "source": [
    "sns.distplot(main_pred)"
   ]
  },
  {
   "cell_type": "code",
   "execution_count": 233,
   "metadata": {},
   "outputs": [
    {
     "data": {
      "text/plain": [
       "0.04515187302931132"
      ]
     },
     "execution_count": 233,
     "metadata": {},
     "output_type": "execute_result"
    }
   ],
   "source": [
    "df_in['transformed_profit'] = df_in['log_pred_price'] - df_in['log_price'] \n",
    "df_in['transformed_profit'].mean()"
   ]
  },
  {
   "cell_type": "code",
   "execution_count": 216,
   "metadata": {},
   "outputs": [
    {
     "data": {
      "text/plain": [
       "0        134.876008\n",
       "1        128.397540\n",
       "2         38.368877\n",
       "3        138.676060\n",
       "4         37.821309\n",
       "            ...    \n",
       "16033     35.056962\n",
       "16034     26.006111\n",
       "16035     43.904708\n",
       "16036     50.057430\n",
       "16037     46.837145\n",
       "Name: pred_price, Length: 16038, dtype: float64"
      ]
     },
     "execution_count": 216,
     "metadata": {},
     "output_type": "execute_result"
    }
   ],
   "source": [
    "df['pred_price']"
   ]
  },
  {
   "cell_type": "code",
   "execution_count": 238,
   "metadata": {},
   "outputs": [
    {
     "data": {
      "text/plain": [
       "1.0245493632547358"
      ]
     },
     "execution_count": 238,
     "metadata": {},
     "output_type": "execute_result"
    }
   ],
   "source": [
    "np.exp(lci)"
   ]
  },
  {
   "cell_type": "code",
   "execution_count": 239,
   "metadata": {},
   "outputs": [
    {
     "data": {
      "text/plain": [
       "1.0682810653794588"
      ]
     },
     "execution_count": 239,
     "metadata": {},
     "output_type": "execute_result"
    }
   ],
   "source": [
    "np.exp(uci)"
   ]
  },
  {
   "cell_type": "code",
   "execution_count": 200,
   "metadata": {},
   "outputs": [
    {
     "data": {
      "text/plain": [
       "1.2264162578236033e+39"
      ]
     },
     "execution_count": 200,
     "metadata": {},
     "output_type": "execute_result"
    }
   ],
   "source": [
    "np.exp(df['pred_price'].mean())"
   ]
  },
  {
   "cell_type": "code",
   "execution_count": 234,
   "metadata": {},
   "outputs": [],
   "source": [
    "lci , uci = stats.norm.interval(0.05,loc = df_in['transformed_profit'].mean(), scale = df_in['transformed_profit'].std())"
   ]
  },
  {
   "cell_type": "code",
   "execution_count": 235,
   "metadata": {},
   "outputs": [
    {
     "data": {
      "text/plain": [
       "0.02425287031277121"
      ]
     },
     "execution_count": 235,
     "metadata": {},
     "output_type": "execute_result"
    }
   ],
   "source": [
    "lci"
   ]
  },
  {
   "cell_type": "code",
   "execution_count": 237,
   "metadata": {},
   "outputs": [
    {
     "data": {
      "text/plain": [
       "0.06605087574585143"
      ]
     },
     "execution_count": 237,
     "metadata": {},
     "output_type": "execute_result"
    }
   ],
   "source": [
    "uci"
   ]
  },
  {
   "cell_type": "code",
   "execution_count": 204,
   "metadata": {},
   "outputs": [
    {
     "data": {
      "text/plain": [
       "6.849698111900525e+30"
      ]
     },
     "execution_count": 204,
     "metadata": {},
     "output_type": "execute_result"
    }
   ],
   "source": [
    "np.exp(df_in['transformed_profit'].mean())"
   ]
  },
  {
   "cell_type": "code",
   "execution_count": null,
   "metadata": {},
   "outputs": [],
   "source": []
  },
  {
   "cell_type": "code",
   "execution_count": null,
   "metadata": {},
   "outputs": [],
   "source": []
  }
 ],
 "metadata": {
  "kernelspec": {
   "display_name": "Python 3",
   "language": "python",
   "name": "python3"
  },
  "language_info": {
   "codemirror_mode": {
    "name": "ipython",
    "version": 3
   },
   "file_extension": ".py",
   "mimetype": "text/x-python",
   "name": "python",
   "nbconvert_exporter": "python",
   "pygments_lexer": "ipython3",
   "version": "3.7.6"
  }
 },
 "nbformat": 4,
 "nbformat_minor": 2
}
