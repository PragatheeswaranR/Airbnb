{
 "cells": [
  {
   "cell_type": "code",
   "execution_count": 1,
   "metadata": {},
   "outputs": [],
   "source": [
    "import numpy as np\n",
    "import pandas as pd\n",
    "import matplotlib.pyplot as plt\n",
    "import seaborn as sns\n",
    "import warnings\n",
    "warnings.filterwarnings('ignore')\n",
    "pd.set_option('max_columns',200)"
   ]
  },
  {
   "cell_type": "code",
   "execution_count": 2,
   "metadata": {},
   "outputs": [],
   "source": [
    "df = pd.read_csv('listings_new.csv')"
   ]
  },
  {
   "cell_type": "code",
   "execution_count": 3,
   "metadata": {},
   "outputs": [
    {
     "data": {
      "text/html": [
       "<div>\n",
       "<style scoped>\n",
       "    .dataframe tbody tr th:only-of-type {\n",
       "        vertical-align: middle;\n",
       "    }\n",
       "\n",
       "    .dataframe tbody tr th {\n",
       "        vertical-align: top;\n",
       "    }\n",
       "\n",
       "    .dataframe thead th {\n",
       "        text-align: right;\n",
       "    }\n",
       "</style>\n",
       "<table border=\"1\" class=\"dataframe\">\n",
       "  <thead>\n",
       "    <tr style=\"text-align: right;\">\n",
       "      <th></th>\n",
       "      <th>Unnamed: 0</th>\n",
       "      <th>host_response_time</th>\n",
       "      <th>host_response_rate</th>\n",
       "      <th>host_is_superhost</th>\n",
       "      <th>host_listings_count</th>\n",
       "      <th>host_total_listings_count</th>\n",
       "      <th>host_verifications</th>\n",
       "      <th>host_has_profile_pic</th>\n",
       "      <th>host_identity_verified</th>\n",
       "      <th>is_location_exact</th>\n",
       "      <th>property_type</th>\n",
       "      <th>room_type</th>\n",
       "      <th>accommodates</th>\n",
       "      <th>bathrooms</th>\n",
       "      <th>bedrooms</th>\n",
       "      <th>beds</th>\n",
       "      <th>bed_type</th>\n",
       "      <th>amenities</th>\n",
       "      <th>price</th>\n",
       "      <th>security_deposit</th>\n",
       "      <th>cleaning_fee</th>\n",
       "      <th>guests_included</th>\n",
       "      <th>extra_people</th>\n",
       "      <th>minimum_nights</th>\n",
       "      <th>maximum_nights</th>\n",
       "      <th>minimum_minimum_nights</th>\n",
       "      <th>maximum_minimum_nights</th>\n",
       "      <th>minimum_maximum_nights</th>\n",
       "      <th>maximum_maximum_nights</th>\n",
       "      <th>minimum_nights_avg_ntm</th>\n",
       "      <th>maximum_nights_avg_ntm</th>\n",
       "      <th>availability_30</th>\n",
       "      <th>availability_60</th>\n",
       "      <th>availability_90</th>\n",
       "      <th>availability_365</th>\n",
       "      <th>number_of_reviews</th>\n",
       "      <th>number_of_reviews_ltm</th>\n",
       "      <th>review_scores_rating</th>\n",
       "      <th>review_scores_accuracy</th>\n",
       "      <th>review_scores_cleanliness</th>\n",
       "      <th>review_scores_checkin</th>\n",
       "      <th>review_scores_communication</th>\n",
       "      <th>review_scores_location</th>\n",
       "      <th>review_scores_value</th>\n",
       "      <th>instant_bookable</th>\n",
       "      <th>cancellation_policy</th>\n",
       "      <th>require_guest_profile_picture</th>\n",
       "      <th>require_guest_phone_verification</th>\n",
       "      <th>calculated_host_listings_count</th>\n",
       "      <th>calculated_host_listings_count_entire_homes</th>\n",
       "      <th>calculated_host_listings_count_private_rooms</th>\n",
       "      <th>calculated_host_listings_count_shared_rooms</th>\n",
       "      <th>reviews_per_month</th>\n",
       "      <th>log_price</th>\n",
       "    </tr>\n",
       "  </thead>\n",
       "  <tbody>\n",
       "    <tr>\n",
       "      <td>0</td>\n",
       "      <td>0</td>\n",
       "      <td>3</td>\n",
       "      <td>95.0</td>\n",
       "      <td>0.0</td>\n",
       "      <td>47.0</td>\n",
       "      <td>47.0</td>\n",
       "      <td>5.0</td>\n",
       "      <td>1.0</td>\n",
       "      <td>1.0</td>\n",
       "      <td>1.0</td>\n",
       "      <td>1</td>\n",
       "      <td>0</td>\n",
       "      <td>6.0</td>\n",
       "      <td>2</td>\n",
       "      <td>2</td>\n",
       "      <td>4</td>\n",
       "      <td>4</td>\n",
       "      <td>18.0</td>\n",
       "      <td>130.0</td>\n",
       "      <td>150.000000</td>\n",
       "      <td>42.000000</td>\n",
       "      <td>2.0</td>\n",
       "      <td>25.0</td>\n",
       "      <td>3.0</td>\n",
       "      <td>730.0</td>\n",
       "      <td>3.0</td>\n",
       "      <td>3.0</td>\n",
       "      <td>730.0</td>\n",
       "      <td>730.0</td>\n",
       "      <td>3.0</td>\n",
       "      <td>730.0</td>\n",
       "      <td>0.0</td>\n",
       "      <td>0.0</td>\n",
       "      <td>0.0</td>\n",
       "      <td>251.0</td>\n",
       "      <td>1.0</td>\n",
       "      <td>0.0</td>\n",
       "      <td>80.0</td>\n",
       "      <td>10.0</td>\n",
       "      <td>10.0</td>\n",
       "      <td>2.0</td>\n",
       "      <td>10.0</td>\n",
       "      <td>10.0</td>\n",
       "      <td>8.0</td>\n",
       "      <td>0.0</td>\n",
       "      <td>0</td>\n",
       "      <td>0.0</td>\n",
       "      <td>0.0</td>\n",
       "      <td>31.0</td>\n",
       "      <td>31.0</td>\n",
       "      <td>0.0</td>\n",
       "      <td>0.0</td>\n",
       "      <td>0.02</td>\n",
       "      <td>4.867534</td>\n",
       "    </tr>\n",
       "    <tr>\n",
       "      <td>1</td>\n",
       "      <td>1</td>\n",
       "      <td>3</td>\n",
       "      <td>95.0</td>\n",
       "      <td>0.0</td>\n",
       "      <td>47.0</td>\n",
       "      <td>47.0</td>\n",
       "      <td>5.0</td>\n",
       "      <td>1.0</td>\n",
       "      <td>1.0</td>\n",
       "      <td>1.0</td>\n",
       "      <td>1</td>\n",
       "      <td>0</td>\n",
       "      <td>8.0</td>\n",
       "      <td>4</td>\n",
       "      <td>3</td>\n",
       "      <td>6</td>\n",
       "      <td>4</td>\n",
       "      <td>22.0</td>\n",
       "      <td>60.0</td>\n",
       "      <td>150.000000</td>\n",
       "      <td>50.000000</td>\n",
       "      <td>2.0</td>\n",
       "      <td>30.0</td>\n",
       "      <td>1.0</td>\n",
       "      <td>1125.0</td>\n",
       "      <td>1.0</td>\n",
       "      <td>5.0</td>\n",
       "      <td>1125.0</td>\n",
       "      <td>1125.0</td>\n",
       "      <td>1.9</td>\n",
       "      <td>1125.0</td>\n",
       "      <td>13.0</td>\n",
       "      <td>31.0</td>\n",
       "      <td>43.0</td>\n",
       "      <td>52.0</td>\n",
       "      <td>16.0</td>\n",
       "      <td>11.0</td>\n",
       "      <td>85.0</td>\n",
       "      <td>9.0</td>\n",
       "      <td>9.0</td>\n",
       "      <td>9.0</td>\n",
       "      <td>10.0</td>\n",
       "      <td>9.0</td>\n",
       "      <td>8.0</td>\n",
       "      <td>1.0</td>\n",
       "      <td>3</td>\n",
       "      <td>0.0</td>\n",
       "      <td>0.0</td>\n",
       "      <td>31.0</td>\n",
       "      <td>31.0</td>\n",
       "      <td>0.0</td>\n",
       "      <td>0.0</td>\n",
       "      <td>0.21</td>\n",
       "      <td>4.094345</td>\n",
       "    </tr>\n",
       "    <tr>\n",
       "      <td>2</td>\n",
       "      <td>2</td>\n",
       "      <td>2</td>\n",
       "      <td>100.0</td>\n",
       "      <td>0.0</td>\n",
       "      <td>2.0</td>\n",
       "      <td>2.0</td>\n",
       "      <td>6.0</td>\n",
       "      <td>1.0</td>\n",
       "      <td>1.0</td>\n",
       "      <td>1.0</td>\n",
       "      <td>1</td>\n",
       "      <td>2</td>\n",
       "      <td>2.0</td>\n",
       "      <td>2</td>\n",
       "      <td>1</td>\n",
       "      <td>1</td>\n",
       "      <td>4</td>\n",
       "      <td>41.0</td>\n",
       "      <td>33.0</td>\n",
       "      <td>100.000000</td>\n",
       "      <td>89.922336</td>\n",
       "      <td>1.0</td>\n",
       "      <td>10.0</td>\n",
       "      <td>2.0</td>\n",
       "      <td>1125.0</td>\n",
       "      <td>2.0</td>\n",
       "      <td>4.0</td>\n",
       "      <td>1125.0</td>\n",
       "      <td>1125.0</td>\n",
       "      <td>2.1</td>\n",
       "      <td>1125.0</td>\n",
       "      <td>3.0</td>\n",
       "      <td>3.0</td>\n",
       "      <td>3.0</td>\n",
       "      <td>3.0</td>\n",
       "      <td>125.0</td>\n",
       "      <td>31.0</td>\n",
       "      <td>90.0</td>\n",
       "      <td>10.0</td>\n",
       "      <td>9.0</td>\n",
       "      <td>10.0</td>\n",
       "      <td>10.0</td>\n",
       "      <td>9.0</td>\n",
       "      <td>9.0</td>\n",
       "      <td>0.0</td>\n",
       "      <td>1</td>\n",
       "      <td>0.0</td>\n",
       "      <td>0.0</td>\n",
       "      <td>2.0</td>\n",
       "      <td>0.0</td>\n",
       "      <td>2.0</td>\n",
       "      <td>0.0</td>\n",
       "      <td>3.05</td>\n",
       "      <td>3.496508</td>\n",
       "    </tr>\n",
       "    <tr>\n",
       "      <td>3</td>\n",
       "      <td>3</td>\n",
       "      <td>3</td>\n",
       "      <td>100.0</td>\n",
       "      <td>1.0</td>\n",
       "      <td>5.0</td>\n",
       "      <td>5.0</td>\n",
       "      <td>8.0</td>\n",
       "      <td>1.0</td>\n",
       "      <td>1.0</td>\n",
       "      <td>0.0</td>\n",
       "      <td>1</td>\n",
       "      <td>0</td>\n",
       "      <td>6.0</td>\n",
       "      <td>4</td>\n",
       "      <td>3</td>\n",
       "      <td>5</td>\n",
       "      <td>4</td>\n",
       "      <td>46.0</td>\n",
       "      <td>210.0</td>\n",
       "      <td>300.000000</td>\n",
       "      <td>80.000000</td>\n",
       "      <td>3.0</td>\n",
       "      <td>10.0</td>\n",
       "      <td>3.0</td>\n",
       "      <td>1125.0</td>\n",
       "      <td>3.0</td>\n",
       "      <td>5.0</td>\n",
       "      <td>1125.0</td>\n",
       "      <td>1125.0</td>\n",
       "      <td>3.1</td>\n",
       "      <td>1125.0</td>\n",
       "      <td>10.0</td>\n",
       "      <td>33.0</td>\n",
       "      <td>56.0</td>\n",
       "      <td>326.0</td>\n",
       "      <td>49.0</td>\n",
       "      <td>17.0</td>\n",
       "      <td>94.0</td>\n",
       "      <td>10.0</td>\n",
       "      <td>10.0</td>\n",
       "      <td>10.0</td>\n",
       "      <td>10.0</td>\n",
       "      <td>9.0</td>\n",
       "      <td>9.0</td>\n",
       "      <td>1.0</td>\n",
       "      <td>3</td>\n",
       "      <td>0.0</td>\n",
       "      <td>1.0</td>\n",
       "      <td>2.0</td>\n",
       "      <td>2.0</td>\n",
       "      <td>0.0</td>\n",
       "      <td>0.0</td>\n",
       "      <td>0.47</td>\n",
       "      <td>5.347108</td>\n",
       "    </tr>\n",
       "    <tr>\n",
       "      <td>4</td>\n",
       "      <td>4</td>\n",
       "      <td>3</td>\n",
       "      <td>100.0</td>\n",
       "      <td>1.0</td>\n",
       "      <td>1.0</td>\n",
       "      <td>1.0</td>\n",
       "      <td>8.0</td>\n",
       "      <td>1.0</td>\n",
       "      <td>1.0</td>\n",
       "      <td>1.0</td>\n",
       "      <td>1</td>\n",
       "      <td>2</td>\n",
       "      <td>2.0</td>\n",
       "      <td>2</td>\n",
       "      <td>1</td>\n",
       "      <td>1</td>\n",
       "      <td>4</td>\n",
       "      <td>17.0</td>\n",
       "      <td>45.0</td>\n",
       "      <td>991.363756</td>\n",
       "      <td>-10.009156</td>\n",
       "      <td>1.0</td>\n",
       "      <td>25.0</td>\n",
       "      <td>1.0</td>\n",
       "      <td>730.0</td>\n",
       "      <td>1.0</td>\n",
       "      <td>1.0</td>\n",
       "      <td>730.0</td>\n",
       "      <td>730.0</td>\n",
       "      <td>1.0</td>\n",
       "      <td>730.0</td>\n",
       "      <td>10.0</td>\n",
       "      <td>31.0</td>\n",
       "      <td>41.0</td>\n",
       "      <td>77.0</td>\n",
       "      <td>254.0</td>\n",
       "      <td>48.0</td>\n",
       "      <td>95.0</td>\n",
       "      <td>10.0</td>\n",
       "      <td>10.0</td>\n",
       "      <td>10.0</td>\n",
       "      <td>10.0</td>\n",
       "      <td>10.0</td>\n",
       "      <td>10.0</td>\n",
       "      <td>1.0</td>\n",
       "      <td>3</td>\n",
       "      <td>1.0</td>\n",
       "      <td>1.0</td>\n",
       "      <td>1.0</td>\n",
       "      <td>0.0</td>\n",
       "      <td>1.0</td>\n",
       "      <td>0.0</td>\n",
       "      <td>2.29</td>\n",
       "      <td>3.806662</td>\n",
       "    </tr>\n",
       "  </tbody>\n",
       "</table>\n",
       "</div>"
      ],
      "text/plain": [
       "   Unnamed: 0  host_response_time  host_response_rate  host_is_superhost  \\\n",
       "0           0                   3                95.0                0.0   \n",
       "1           1                   3                95.0                0.0   \n",
       "2           2                   2               100.0                0.0   \n",
       "3           3                   3               100.0                1.0   \n",
       "4           4                   3               100.0                1.0   \n",
       "\n",
       "   host_listings_count  host_total_listings_count  host_verifications  \\\n",
       "0                 47.0                       47.0                 5.0   \n",
       "1                 47.0                       47.0                 5.0   \n",
       "2                  2.0                        2.0                 6.0   \n",
       "3                  5.0                        5.0                 8.0   \n",
       "4                  1.0                        1.0                 8.0   \n",
       "\n",
       "   host_has_profile_pic  host_identity_verified  is_location_exact  \\\n",
       "0                   1.0                     1.0                1.0   \n",
       "1                   1.0                     1.0                1.0   \n",
       "2                   1.0                     1.0                1.0   \n",
       "3                   1.0                     1.0                0.0   \n",
       "4                   1.0                     1.0                1.0   \n",
       "\n",
       "   property_type  room_type  accommodates  bathrooms  bedrooms  beds  \\\n",
       "0              1          0           6.0          2         2     4   \n",
       "1              1          0           8.0          4         3     6   \n",
       "2              1          2           2.0          2         1     1   \n",
       "3              1          0           6.0          4         3     5   \n",
       "4              1          2           2.0          2         1     1   \n",
       "\n",
       "   bed_type  amenities  price  security_deposit  cleaning_fee  \\\n",
       "0         4       18.0  130.0        150.000000     42.000000   \n",
       "1         4       22.0   60.0        150.000000     50.000000   \n",
       "2         4       41.0   33.0        100.000000     89.922336   \n",
       "3         4       46.0  210.0        300.000000     80.000000   \n",
       "4         4       17.0   45.0        991.363756    -10.009156   \n",
       "\n",
       "   guests_included  extra_people  minimum_nights  maximum_nights  \\\n",
       "0              2.0          25.0             3.0           730.0   \n",
       "1              2.0          30.0             1.0          1125.0   \n",
       "2              1.0          10.0             2.0          1125.0   \n",
       "3              3.0          10.0             3.0          1125.0   \n",
       "4              1.0          25.0             1.0           730.0   \n",
       "\n",
       "   minimum_minimum_nights  maximum_minimum_nights  minimum_maximum_nights  \\\n",
       "0                     3.0                     3.0                   730.0   \n",
       "1                     1.0                     5.0                  1125.0   \n",
       "2                     2.0                     4.0                  1125.0   \n",
       "3                     3.0                     5.0                  1125.0   \n",
       "4                     1.0                     1.0                   730.0   \n",
       "\n",
       "   maximum_maximum_nights  minimum_nights_avg_ntm  maximum_nights_avg_ntm  \\\n",
       "0                   730.0                     3.0                   730.0   \n",
       "1                  1125.0                     1.9                  1125.0   \n",
       "2                  1125.0                     2.1                  1125.0   \n",
       "3                  1125.0                     3.1                  1125.0   \n",
       "4                   730.0                     1.0                   730.0   \n",
       "\n",
       "   availability_30  availability_60  availability_90  availability_365  \\\n",
       "0              0.0              0.0              0.0             251.0   \n",
       "1             13.0             31.0             43.0              52.0   \n",
       "2              3.0              3.0              3.0               3.0   \n",
       "3             10.0             33.0             56.0             326.0   \n",
       "4             10.0             31.0             41.0              77.0   \n",
       "\n",
       "   number_of_reviews  number_of_reviews_ltm  review_scores_rating  \\\n",
       "0                1.0                    0.0                  80.0   \n",
       "1               16.0                   11.0                  85.0   \n",
       "2              125.0                   31.0                  90.0   \n",
       "3               49.0                   17.0                  94.0   \n",
       "4              254.0                   48.0                  95.0   \n",
       "\n",
       "   review_scores_accuracy  review_scores_cleanliness  review_scores_checkin  \\\n",
       "0                    10.0                       10.0                    2.0   \n",
       "1                     9.0                        9.0                    9.0   \n",
       "2                    10.0                        9.0                   10.0   \n",
       "3                    10.0                       10.0                   10.0   \n",
       "4                    10.0                       10.0                   10.0   \n",
       "\n",
       "   review_scores_communication  review_scores_location  review_scores_value  \\\n",
       "0                         10.0                    10.0                  8.0   \n",
       "1                         10.0                     9.0                  8.0   \n",
       "2                         10.0                     9.0                  9.0   \n",
       "3                         10.0                     9.0                  9.0   \n",
       "4                         10.0                    10.0                 10.0   \n",
       "\n",
       "   instant_bookable  cancellation_policy  require_guest_profile_picture  \\\n",
       "0               0.0                    0                            0.0   \n",
       "1               1.0                    3                            0.0   \n",
       "2               0.0                    1                            0.0   \n",
       "3               1.0                    3                            0.0   \n",
       "4               1.0                    3                            1.0   \n",
       "\n",
       "   require_guest_phone_verification  calculated_host_listings_count  \\\n",
       "0                               0.0                            31.0   \n",
       "1                               0.0                            31.0   \n",
       "2                               0.0                             2.0   \n",
       "3                               1.0                             2.0   \n",
       "4                               1.0                             1.0   \n",
       "\n",
       "   calculated_host_listings_count_entire_homes  \\\n",
       "0                                         31.0   \n",
       "1                                         31.0   \n",
       "2                                          0.0   \n",
       "3                                          2.0   \n",
       "4                                          0.0   \n",
       "\n",
       "   calculated_host_listings_count_private_rooms  \\\n",
       "0                                           0.0   \n",
       "1                                           0.0   \n",
       "2                                           2.0   \n",
       "3                                           0.0   \n",
       "4                                           1.0   \n",
       "\n",
       "   calculated_host_listings_count_shared_rooms  reviews_per_month  log_price  \n",
       "0                                          0.0               0.02   4.867534  \n",
       "1                                          0.0               0.21   4.094345  \n",
       "2                                          0.0               3.05   3.496508  \n",
       "3                                          0.0               0.47   5.347108  \n",
       "4                                          0.0               2.29   3.806662  "
      ]
     },
     "execution_count": 3,
     "metadata": {},
     "output_type": "execute_result"
    }
   ],
   "source": [
    "df.head()"
   ]
  },
  {
   "cell_type": "code",
   "execution_count": 4,
   "metadata": {},
   "outputs": [],
   "source": [
    "df.drop('Unnamed: 0',1,inplace = True)"
   ]
  },
  {
   "cell_type": "code",
   "execution_count": 5,
   "metadata": {},
   "outputs": [],
   "source": [
    "df.drop('host_listings_count',1,inplace = True)"
   ]
  },
  {
   "cell_type": "code",
   "execution_count": 6,
   "metadata": {},
   "outputs": [],
   "source": [
    "ds = pd.read_csv('senti_analysis.csv')\n"
   ]
  },
  {
   "cell_type": "code",
   "execution_count": 7,
   "metadata": {},
   "outputs": [],
   "source": [
    "# from sklearn.preprocessing import LabelEncoder\n",
    "\n",
    "# le = LabelEncoder()\n",
    "# for i in df.select_dtypes('object').columns:\n",
    "#     df[i] = le.fit_transform(df[i])"
   ]
  },
  {
   "cell_type": "code",
   "execution_count": 8,
   "metadata": {},
   "outputs": [],
   "source": [
    "rounding_categorical = ['bathrooms','beds','bedrooms']"
   ]
  },
  {
   "cell_type": "code",
   "execution_count": 9,
   "metadata": {},
   "outputs": [
    {
     "data": {
      "text/html": [
       "<div>\n",
       "<style scoped>\n",
       "    .dataframe tbody tr th:only-of-type {\n",
       "        vertical-align: middle;\n",
       "    }\n",
       "\n",
       "    .dataframe tbody tr th {\n",
       "        vertical-align: top;\n",
       "    }\n",
       "\n",
       "    .dataframe thead th {\n",
       "        text-align: right;\n",
       "    }\n",
       "</style>\n",
       "<table border=\"1\" class=\"dataframe\">\n",
       "  <thead>\n",
       "    <tr style=\"text-align: right;\">\n",
       "      <th></th>\n",
       "      <th>bathrooms</th>\n",
       "      <th>beds</th>\n",
       "      <th>bedrooms</th>\n",
       "    </tr>\n",
       "  </thead>\n",
       "  <tbody>\n",
       "    <tr>\n",
       "      <td>0</td>\n",
       "      <td>2</td>\n",
       "      <td>4</td>\n",
       "      <td>2</td>\n",
       "    </tr>\n",
       "    <tr>\n",
       "      <td>1</td>\n",
       "      <td>4</td>\n",
       "      <td>6</td>\n",
       "      <td>3</td>\n",
       "    </tr>\n",
       "    <tr>\n",
       "      <td>2</td>\n",
       "      <td>2</td>\n",
       "      <td>1</td>\n",
       "      <td>1</td>\n",
       "    </tr>\n",
       "    <tr>\n",
       "      <td>3</td>\n",
       "      <td>4</td>\n",
       "      <td>5</td>\n",
       "      <td>3</td>\n",
       "    </tr>\n",
       "    <tr>\n",
       "      <td>4</td>\n",
       "      <td>2</td>\n",
       "      <td>1</td>\n",
       "      <td>1</td>\n",
       "    </tr>\n",
       "    <tr>\n",
       "      <td>...</td>\n",
       "      <td>...</td>\n",
       "      <td>...</td>\n",
       "      <td>...</td>\n",
       "    </tr>\n",
       "    <tr>\n",
       "      <td>20355</td>\n",
       "      <td>2</td>\n",
       "      <td>1</td>\n",
       "      <td>1</td>\n",
       "    </tr>\n",
       "    <tr>\n",
       "      <td>20356</td>\n",
       "      <td>2</td>\n",
       "      <td>1</td>\n",
       "      <td>1</td>\n",
       "    </tr>\n",
       "    <tr>\n",
       "      <td>20357</td>\n",
       "      <td>4</td>\n",
       "      <td>1</td>\n",
       "      <td>1</td>\n",
       "    </tr>\n",
       "    <tr>\n",
       "      <td>20358</td>\n",
       "      <td>2</td>\n",
       "      <td>1</td>\n",
       "      <td>1</td>\n",
       "    </tr>\n",
       "    <tr>\n",
       "      <td>20359</td>\n",
       "      <td>2</td>\n",
       "      <td>1</td>\n",
       "      <td>1</td>\n",
       "    </tr>\n",
       "  </tbody>\n",
       "</table>\n",
       "<p>20360 rows × 3 columns</p>\n",
       "</div>"
      ],
      "text/plain": [
       "       bathrooms  beds  bedrooms\n",
       "0              2     4         2\n",
       "1              4     6         3\n",
       "2              2     1         1\n",
       "3              4     5         3\n",
       "4              2     1         1\n",
       "...          ...   ...       ...\n",
       "20355          2     1         1\n",
       "20356          2     1         1\n",
       "20357          4     1         1\n",
       "20358          2     1         1\n",
       "20359          2     1         1\n",
       "\n",
       "[20360 rows x 3 columns]"
      ]
     },
     "execution_count": 9,
     "metadata": {},
     "output_type": "execute_result"
    }
   ],
   "source": [
    "df[rounding_categorical] = df[rounding_categorical].astype(int)\n",
    "df[rounding_categorical]"
   ]
  },
  {
   "cell_type": "code",
   "execution_count": 10,
   "metadata": {},
   "outputs": [],
   "source": [
    "for i in df.select_dtypes('bool').columns:\n",
    "    df[i] = df[i].astype(int)"
   ]
  },
  {
   "cell_type": "code",
   "execution_count": 11,
   "metadata": {},
   "outputs": [],
   "source": [
    "df['log_price'] = np.log(df.price)"
   ]
  },
  {
   "cell_type": "code",
   "execution_count": 12,
   "metadata": {},
   "outputs": [],
   "source": [
    "daf = df.drop('price',1)"
   ]
  },
  {
   "cell_type": "code",
   "execution_count": 13,
   "metadata": {},
   "outputs": [
    {
     "data": {
      "text/plain": [
       "(20360, 51)"
      ]
     },
     "execution_count": 13,
     "metadata": {},
     "output_type": "execute_result"
    }
   ],
   "source": [
    "daf.shape"
   ]
  },
  {
   "cell_type": "code",
   "execution_count": 14,
   "metadata": {},
   "outputs": [],
   "source": [
    "X,y = daf.drop('log_price',1), daf.log_price"
   ]
  },
  {
   "cell_type": "code",
   "execution_count": 15,
   "metadata": {},
   "outputs": [],
   "source": [
    "import statsmodels.api as sm"
   ]
  },
  {
   "cell_type": "code",
   "execution_count": 16,
   "metadata": {},
   "outputs": [],
   "source": [
    "X_constant = sm.add_constant(X)\n",
    "model = sm.OLS(y, X_constant).fit()"
   ]
  },
  {
   "cell_type": "code",
   "execution_count": 17,
   "metadata": {
    "scrolled": false
   },
   "outputs": [
    {
     "data": {
      "text/html": [
       "<table class=\"simpletable\">\n",
       "<caption>OLS Regression Results</caption>\n",
       "<tr>\n",
       "  <th>Dep. Variable:</th>        <td>log_price</td>    <th>  R-squared:         </th> <td>   0.451</td> \n",
       "</tr>\n",
       "<tr>\n",
       "  <th>Model:</th>                   <td>OLS</td>       <th>  Adj. R-squared:    </th> <td>   0.450</td> \n",
       "</tr>\n",
       "<tr>\n",
       "  <th>Method:</th>             <td>Least Squares</td>  <th>  F-statistic:       </th> <td>   333.7</td> \n",
       "</tr>\n",
       "<tr>\n",
       "  <th>Date:</th>             <td>Mon, 18 Nov 2019</td> <th>  Prob (F-statistic):</th>  <td>  0.00</td>  \n",
       "</tr>\n",
       "<tr>\n",
       "  <th>Time:</th>                 <td>19:47:23</td>     <th>  Log-Likelihood:    </th> <td> -19678.</td> \n",
       "</tr>\n",
       "<tr>\n",
       "  <th>No. Observations:</th>      <td> 20360</td>      <th>  AIC:               </th> <td>3.946e+04</td>\n",
       "</tr>\n",
       "<tr>\n",
       "  <th>Df Residuals:</th>          <td> 20309</td>      <th>  BIC:               </th> <td>3.986e+04</td>\n",
       "</tr>\n",
       "<tr>\n",
       "  <th>Df Model:</th>              <td>    50</td>      <th>                     </th>     <td> </td>    \n",
       "</tr>\n",
       "<tr>\n",
       "  <th>Covariance Type:</th>      <td>nonrobust</td>    <th>                     </th>     <td> </td>    \n",
       "</tr>\n",
       "</table>\n",
       "<table class=\"simpletable\">\n",
       "<tr>\n",
       "                        <td></td>                          <th>coef</th>     <th>std err</th>      <th>t</th>      <th>P>|t|</th>  <th>[0.025</th>    <th>0.975]</th>  \n",
       "</tr>\n",
       "<tr>\n",
       "  <th>const</th>                                        <td>    3.1529</td> <td>    0.197</td> <td>   15.998</td> <td> 0.000</td> <td>    2.767</td> <td>    3.539</td>\n",
       "</tr>\n",
       "<tr>\n",
       "  <th>host_response_time</th>                           <td>   -0.0009</td> <td>    0.006</td> <td>   -0.143</td> <td> 0.886</td> <td>   -0.014</td> <td>    0.012</td>\n",
       "</tr>\n",
       "<tr>\n",
       "  <th>host_response_rate</th>                           <td>    0.0006</td> <td>    0.000</td> <td>    1.811</td> <td> 0.070</td> <td>-4.86e-05</td> <td>    0.001</td>\n",
       "</tr>\n",
       "<tr>\n",
       "  <th>host_is_superhost</th>                            <td>    0.0137</td> <td>    0.012</td> <td>    1.139</td> <td> 0.255</td> <td>   -0.010</td> <td>    0.037</td>\n",
       "</tr>\n",
       "<tr>\n",
       "  <th>host_total_listings_count</th>                    <td>   -0.0013</td> <td>    0.000</td> <td>   -8.875</td> <td> 0.000</td> <td>   -0.002</td> <td>   -0.001</td>\n",
       "</tr>\n",
       "<tr>\n",
       "  <th>host_verifications</th>                           <td>   -0.0225</td> <td>    0.002</td> <td>  -10.394</td> <td> 0.000</td> <td>   -0.027</td> <td>   -0.018</td>\n",
       "</tr>\n",
       "<tr>\n",
       "  <th>host_has_profile_pic</th>                         <td>   -0.0143</td> <td>    0.099</td> <td>   -0.145</td> <td> 0.884</td> <td>   -0.208</td> <td>    0.179</td>\n",
       "</tr>\n",
       "<tr>\n",
       "  <th>host_identity_verified</th>                       <td>    0.0014</td> <td>    0.010</td> <td>    0.142</td> <td> 0.887</td> <td>   -0.018</td> <td>    0.021</td>\n",
       "</tr>\n",
       "<tr>\n",
       "  <th>is_location_exact</th>                            <td>    0.0083</td> <td>    0.010</td> <td>    0.860</td> <td> 0.390</td> <td>   -0.011</td> <td>    0.027</td>\n",
       "</tr>\n",
       "<tr>\n",
       "  <th>property_type</th>                                <td>    0.0008</td> <td>    0.001</td> <td>    1.102</td> <td> 0.270</td> <td>   -0.001</td> <td>    0.002</td>\n",
       "</tr>\n",
       "<tr>\n",
       "  <th>room_type</th>                                    <td>   -0.0067</td> <td>    0.006</td> <td>   -1.198</td> <td> 0.231</td> <td>   -0.018</td> <td>    0.004</td>\n",
       "</tr>\n",
       "<tr>\n",
       "  <th>accommodates</th>                                 <td>    0.1728</td> <td>    0.003</td> <td>   55.983</td> <td> 0.000</td> <td>    0.167</td> <td>    0.179</td>\n",
       "</tr>\n",
       "<tr>\n",
       "  <th>bathrooms</th>                                    <td>   -0.0023</td> <td>    0.004</td> <td>   -0.548</td> <td> 0.584</td> <td>   -0.011</td> <td>    0.006</td>\n",
       "</tr>\n",
       "<tr>\n",
       "  <th>bedrooms</th>                                     <td>    0.0019</td> <td>    0.008</td> <td>    0.237</td> <td> 0.813</td> <td>   -0.014</td> <td>    0.017</td>\n",
       "</tr>\n",
       "<tr>\n",
       "  <th>beds</th>                                         <td>   -0.0027</td> <td>    0.004</td> <td>   -0.622</td> <td> 0.534</td> <td>   -0.011</td> <td>    0.006</td>\n",
       "</tr>\n",
       "<tr>\n",
       "  <th>bed_type</th>                                     <td>   -0.0272</td> <td>    0.038</td> <td>   -0.711</td> <td> 0.477</td> <td>   -0.102</td> <td>    0.048</td>\n",
       "</tr>\n",
       "<tr>\n",
       "  <th>amenities</th>                                    <td>    0.0024</td> <td>    0.000</td> <td>    5.291</td> <td> 0.000</td> <td>    0.002</td> <td>    0.003</td>\n",
       "</tr>\n",
       "<tr>\n",
       "  <th>security_deposit</th>                             <td> 4.401e-05</td> <td> 1.17e-05</td> <td>    3.762</td> <td> 0.000</td> <td> 2.11e-05</td> <td> 6.69e-05</td>\n",
       "</tr>\n",
       "<tr>\n",
       "  <th>cleaning_fee</th>                                 <td>    0.0012</td> <td>    0.000</td> <td>    8.003</td> <td> 0.000</td> <td>    0.001</td> <td>    0.001</td>\n",
       "</tr>\n",
       "<tr>\n",
       "  <th>guests_included</th>                              <td>    0.0370</td> <td>    0.004</td> <td>    9.357</td> <td> 0.000</td> <td>    0.029</td> <td>    0.045</td>\n",
       "</tr>\n",
       "<tr>\n",
       "  <th>extra_people</th>                                 <td>    0.0020</td> <td>    0.000</td> <td>    6.316</td> <td> 0.000</td> <td>    0.001</td> <td>    0.003</td>\n",
       "</tr>\n",
       "<tr>\n",
       "  <th>minimum_nights</th>                               <td>    0.0006</td> <td>    0.001</td> <td>    0.447</td> <td> 0.655</td> <td>   -0.002</td> <td>    0.003</td>\n",
       "</tr>\n",
       "<tr>\n",
       "  <th>maximum_nights</th>                               <td>    0.0002</td> <td> 4.46e-05</td> <td>    4.881</td> <td> 0.000</td> <td>    0.000</td> <td>    0.000</td>\n",
       "</tr>\n",
       "<tr>\n",
       "  <th>minimum_minimum_nights</th>                       <td>   -0.0076</td> <td>    0.002</td> <td>   -4.994</td> <td> 0.000</td> <td>   -0.011</td> <td>   -0.005</td>\n",
       "</tr>\n",
       "<tr>\n",
       "  <th>maximum_minimum_nights</th>                       <td>    0.0006</td> <td>    0.001</td> <td>    0.680</td> <td> 0.497</td> <td>   -0.001</td> <td>    0.002</td>\n",
       "</tr>\n",
       "<tr>\n",
       "  <th>minimum_maximum_nights</th>                       <td>   -0.0004</td> <td> 4.58e-05</td> <td>   -8.322</td> <td> 0.000</td> <td>   -0.000</td> <td>   -0.000</td>\n",
       "</tr>\n",
       "<tr>\n",
       "  <th>maximum_maximum_nights</th>                       <td>    0.0006</td> <td> 7.93e-05</td> <td>    8.048</td> <td> 0.000</td> <td>    0.000</td> <td>    0.001</td>\n",
       "</tr>\n",
       "<tr>\n",
       "  <th>minimum_nights_avg_ntm</th>                       <td>    0.0014</td> <td>    0.002</td> <td>    0.635</td> <td> 0.525</td> <td>   -0.003</td> <td>    0.006</td>\n",
       "</tr>\n",
       "<tr>\n",
       "  <th>maximum_nights_avg_ntm</th>                       <td>   -0.0005</td> <td> 8.07e-05</td> <td>   -5.891</td> <td> 0.000</td> <td>   -0.001</td> <td>   -0.000</td>\n",
       "</tr>\n",
       "<tr>\n",
       "  <th>availability_30</th>                              <td>    0.0072</td> <td>    0.001</td> <td>    5.107</td> <td> 0.000</td> <td>    0.004</td> <td>    0.010</td>\n",
       "</tr>\n",
       "<tr>\n",
       "  <th>availability_60</th>                              <td>   -0.0043</td> <td>    0.001</td> <td>   -3.300</td> <td> 0.001</td> <td>   -0.007</td> <td>   -0.002</td>\n",
       "</tr>\n",
       "<tr>\n",
       "  <th>availability_90</th>                              <td>    0.0039</td> <td>    0.001</td> <td>    6.273</td> <td> 0.000</td> <td>    0.003</td> <td>    0.005</td>\n",
       "</tr>\n",
       "<tr>\n",
       "  <th>availability_365</th>                             <td>    0.0002</td> <td> 4.38e-05</td> <td>    4.145</td> <td> 0.000</td> <td> 9.56e-05</td> <td>    0.000</td>\n",
       "</tr>\n",
       "<tr>\n",
       "  <th>number_of_reviews</th>                            <td>   -0.0002</td> <td>    0.000</td> <td>   -1.436</td> <td> 0.151</td> <td>   -0.000</td> <td> 6.79e-05</td>\n",
       "</tr>\n",
       "<tr>\n",
       "  <th>number_of_reviews_ltm</th>                        <td>   -0.0014</td> <td>    0.001</td> <td>   -2.749</td> <td> 0.006</td> <td>   -0.002</td> <td>   -0.000</td>\n",
       "</tr>\n",
       "<tr>\n",
       "  <th>review_scores_rating</th>                         <td>    0.0058</td> <td>    0.001</td> <td>    5.985</td> <td> 0.000</td> <td>    0.004</td> <td>    0.008</td>\n",
       "</tr>\n",
       "<tr>\n",
       "  <th>review_scores_accuracy</th>                       <td>    0.0010</td> <td>    0.008</td> <td>    0.133</td> <td> 0.894</td> <td>   -0.014</td> <td>    0.016</td>\n",
       "</tr>\n",
       "<tr>\n",
       "  <th>review_scores_cleanliness</th>                    <td>    0.0325</td> <td>    0.006</td> <td>    5.346</td> <td> 0.000</td> <td>    0.021</td> <td>    0.044</td>\n",
       "</tr>\n",
       "<tr>\n",
       "  <th>review_scores_checkin</th>                        <td>   -0.0504</td> <td>    0.008</td> <td>   -6.719</td> <td> 0.000</td> <td>   -0.065</td> <td>   -0.036</td>\n",
       "</tr>\n",
       "<tr>\n",
       "  <th>review_scores_communication</th>                  <td>    0.0103</td> <td>    0.008</td> <td>    1.312</td> <td> 0.189</td> <td>   -0.005</td> <td>    0.026</td>\n",
       "</tr>\n",
       "<tr>\n",
       "  <th>review_scores_location</th>                       <td>    0.0395</td> <td>    0.007</td> <td>    5.528</td> <td> 0.000</td> <td>    0.026</td> <td>    0.054</td>\n",
       "</tr>\n",
       "<tr>\n",
       "  <th>review_scores_value</th>                          <td>   -0.0466</td> <td>    0.008</td> <td>   -6.174</td> <td> 0.000</td> <td>   -0.061</td> <td>   -0.032</td>\n",
       "</tr>\n",
       "<tr>\n",
       "  <th>instant_bookable</th>                             <td>   -0.0026</td> <td>    0.010</td> <td>   -0.266</td> <td> 0.790</td> <td>   -0.022</td> <td>    0.017</td>\n",
       "</tr>\n",
       "<tr>\n",
       "  <th>cancellation_policy</th>                          <td>   -0.0097</td> <td>    0.003</td> <td>   -2.783</td> <td> 0.005</td> <td>   -0.017</td> <td>   -0.003</td>\n",
       "</tr>\n",
       "<tr>\n",
       "  <th>require_guest_profile_picture</th>                <td>   -0.1162</td> <td>    0.047</td> <td>   -2.448</td> <td> 0.014</td> <td>   -0.209</td> <td>   -0.023</td>\n",
       "</tr>\n",
       "<tr>\n",
       "  <th>require_guest_phone_verification</th>             <td>    0.0825</td> <td>    0.030</td> <td>    2.753</td> <td> 0.006</td> <td>    0.024</td> <td>    0.141</td>\n",
       "</tr>\n",
       "<tr>\n",
       "  <th>calculated_host_listings_count</th>               <td>    0.0485</td> <td>    0.002</td> <td>   30.467</td> <td> 0.000</td> <td>    0.045</td> <td>    0.052</td>\n",
       "</tr>\n",
       "<tr>\n",
       "  <th>calculated_host_listings_count_entire_homes</th>  <td>   -0.0437</td> <td>    0.002</td> <td>  -27.644</td> <td> 0.000</td> <td>   -0.047</td> <td>   -0.041</td>\n",
       "</tr>\n",
       "<tr>\n",
       "  <th>calculated_host_listings_count_private_rooms</th> <td>   -0.0537</td> <td>    0.002</td> <td>  -31.479</td> <td> 0.000</td> <td>   -0.057</td> <td>   -0.050</td>\n",
       "</tr>\n",
       "<tr>\n",
       "  <th>calculated_host_listings_count_shared_rooms</th>  <td>   -0.1583</td> <td>    0.011</td> <td>  -14.780</td> <td> 0.000</td> <td>   -0.179</td> <td>   -0.137</td>\n",
       "</tr>\n",
       "<tr>\n",
       "  <th>reviews_per_month</th>                            <td>   -0.0019</td> <td>    0.004</td> <td>   -0.448</td> <td> 0.654</td> <td>   -0.010</td> <td>    0.006</td>\n",
       "</tr>\n",
       "</table>\n",
       "<table class=\"simpletable\">\n",
       "<tr>\n",
       "  <th>Omnibus:</th>       <td>8308.237</td> <th>  Durbin-Watson:     </th> <td>   1.578</td> \n",
       "</tr>\n",
       "<tr>\n",
       "  <th>Prob(Omnibus):</th>  <td> 0.000</td>  <th>  Jarque-Bera (JB):  </th> <td>80589.118</td>\n",
       "</tr>\n",
       "<tr>\n",
       "  <th>Skew:</th>           <td> 1.696</td>  <th>  Prob(JB):          </th> <td>    0.00</td> \n",
       "</tr>\n",
       "<tr>\n",
       "  <th>Kurtosis:</th>       <td>12.137</td>  <th>  Cond. No.          </th> <td>1.97e+09</td> \n",
       "</tr>\n",
       "</table><br/><br/>Warnings:<br/>[1] Standard Errors assume that the covariance matrix of the errors is correctly specified.<br/>[2] The condition number is large, 1.97e+09. This might indicate that there are<br/>strong multicollinearity or other numerical problems."
      ],
      "text/plain": [
       "<class 'statsmodels.iolib.summary.Summary'>\n",
       "\"\"\"\n",
       "                            OLS Regression Results                            \n",
       "==============================================================================\n",
       "Dep. Variable:              log_price   R-squared:                       0.451\n",
       "Model:                            OLS   Adj. R-squared:                  0.450\n",
       "Method:                 Least Squares   F-statistic:                     333.7\n",
       "Date:                Mon, 18 Nov 2019   Prob (F-statistic):               0.00\n",
       "Time:                        19:47:23   Log-Likelihood:                -19678.\n",
       "No. Observations:               20360   AIC:                         3.946e+04\n",
       "Df Residuals:                   20309   BIC:                         3.986e+04\n",
       "Df Model:                          50                                         \n",
       "Covariance Type:            nonrobust                                         \n",
       "================================================================================================================\n",
       "                                                   coef    std err          t      P>|t|      [0.025      0.975]\n",
       "----------------------------------------------------------------------------------------------------------------\n",
       "const                                            3.1529      0.197     15.998      0.000       2.767       3.539\n",
       "host_response_time                              -0.0009      0.006     -0.143      0.886      -0.014       0.012\n",
       "host_response_rate                               0.0006      0.000      1.811      0.070   -4.86e-05       0.001\n",
       "host_is_superhost                                0.0137      0.012      1.139      0.255      -0.010       0.037\n",
       "host_total_listings_count                       -0.0013      0.000     -8.875      0.000      -0.002      -0.001\n",
       "host_verifications                              -0.0225      0.002    -10.394      0.000      -0.027      -0.018\n",
       "host_has_profile_pic                            -0.0143      0.099     -0.145      0.884      -0.208       0.179\n",
       "host_identity_verified                           0.0014      0.010      0.142      0.887      -0.018       0.021\n",
       "is_location_exact                                0.0083      0.010      0.860      0.390      -0.011       0.027\n",
       "property_type                                    0.0008      0.001      1.102      0.270      -0.001       0.002\n",
       "room_type                                       -0.0067      0.006     -1.198      0.231      -0.018       0.004\n",
       "accommodates                                     0.1728      0.003     55.983      0.000       0.167       0.179\n",
       "bathrooms                                       -0.0023      0.004     -0.548      0.584      -0.011       0.006\n",
       "bedrooms                                         0.0019      0.008      0.237      0.813      -0.014       0.017\n",
       "beds                                            -0.0027      0.004     -0.622      0.534      -0.011       0.006\n",
       "bed_type                                        -0.0272      0.038     -0.711      0.477      -0.102       0.048\n",
       "amenities                                        0.0024      0.000      5.291      0.000       0.002       0.003\n",
       "security_deposit                              4.401e-05   1.17e-05      3.762      0.000    2.11e-05    6.69e-05\n",
       "cleaning_fee                                     0.0012      0.000      8.003      0.000       0.001       0.001\n",
       "guests_included                                  0.0370      0.004      9.357      0.000       0.029       0.045\n",
       "extra_people                                     0.0020      0.000      6.316      0.000       0.001       0.003\n",
       "minimum_nights                                   0.0006      0.001      0.447      0.655      -0.002       0.003\n",
       "maximum_nights                                   0.0002   4.46e-05      4.881      0.000       0.000       0.000\n",
       "minimum_minimum_nights                          -0.0076      0.002     -4.994      0.000      -0.011      -0.005\n",
       "maximum_minimum_nights                           0.0006      0.001      0.680      0.497      -0.001       0.002\n",
       "minimum_maximum_nights                          -0.0004   4.58e-05     -8.322      0.000      -0.000      -0.000\n",
       "maximum_maximum_nights                           0.0006   7.93e-05      8.048      0.000       0.000       0.001\n",
       "minimum_nights_avg_ntm                           0.0014      0.002      0.635      0.525      -0.003       0.006\n",
       "maximum_nights_avg_ntm                          -0.0005   8.07e-05     -5.891      0.000      -0.001      -0.000\n",
       "availability_30                                  0.0072      0.001      5.107      0.000       0.004       0.010\n",
       "availability_60                                 -0.0043      0.001     -3.300      0.001      -0.007      -0.002\n",
       "availability_90                                  0.0039      0.001      6.273      0.000       0.003       0.005\n",
       "availability_365                                 0.0002   4.38e-05      4.145      0.000    9.56e-05       0.000\n",
       "number_of_reviews                               -0.0002      0.000     -1.436      0.151      -0.000    6.79e-05\n",
       "number_of_reviews_ltm                           -0.0014      0.001     -2.749      0.006      -0.002      -0.000\n",
       "review_scores_rating                             0.0058      0.001      5.985      0.000       0.004       0.008\n",
       "review_scores_accuracy                           0.0010      0.008      0.133      0.894      -0.014       0.016\n",
       "review_scores_cleanliness                        0.0325      0.006      5.346      0.000       0.021       0.044\n",
       "review_scores_checkin                           -0.0504      0.008     -6.719      0.000      -0.065      -0.036\n",
       "review_scores_communication                      0.0103      0.008      1.312      0.189      -0.005       0.026\n",
       "review_scores_location                           0.0395      0.007      5.528      0.000       0.026       0.054\n",
       "review_scores_value                             -0.0466      0.008     -6.174      0.000      -0.061      -0.032\n",
       "instant_bookable                                -0.0026      0.010     -0.266      0.790      -0.022       0.017\n",
       "cancellation_policy                             -0.0097      0.003     -2.783      0.005      -0.017      -0.003\n",
       "require_guest_profile_picture                   -0.1162      0.047     -2.448      0.014      -0.209      -0.023\n",
       "require_guest_phone_verification                 0.0825      0.030      2.753      0.006       0.024       0.141\n",
       "calculated_host_listings_count                   0.0485      0.002     30.467      0.000       0.045       0.052\n",
       "calculated_host_listings_count_entire_homes     -0.0437      0.002    -27.644      0.000      -0.047      -0.041\n",
       "calculated_host_listings_count_private_rooms    -0.0537      0.002    -31.479      0.000      -0.057      -0.050\n",
       "calculated_host_listings_count_shared_rooms     -0.1583      0.011    -14.780      0.000      -0.179      -0.137\n",
       "reviews_per_month                               -0.0019      0.004     -0.448      0.654      -0.010       0.006\n",
       "==============================================================================\n",
       "Omnibus:                     8308.237   Durbin-Watson:                   1.578\n",
       "Prob(Omnibus):                  0.000   Jarque-Bera (JB):            80589.118\n",
       "Skew:                           1.696   Prob(JB):                         0.00\n",
       "Kurtosis:                      12.137   Cond. No.                     1.97e+09\n",
       "==============================================================================\n",
       "\n",
       "Warnings:\n",
       "[1] Standard Errors assume that the covariance matrix of the errors is correctly specified.\n",
       "[2] The condition number is large, 1.97e+09. This might indicate that there are\n",
       "strong multicollinearity or other numerical problems.\n",
       "\"\"\""
      ]
     },
     "execution_count": 17,
     "metadata": {},
     "output_type": "execute_result"
    }
   ],
   "source": [
    "model.summary()"
   ]
  },
  {
   "cell_type": "code",
   "execution_count": 18,
   "metadata": {},
   "outputs": [],
   "source": [
    "# model.summary2()"
   ]
  },
  {
   "cell_type": "code",
   "execution_count": 19,
   "metadata": {},
   "outputs": [],
   "source": [
    "from sklearn.linear_model import LinearRegression, LassoCV\n",
    "from sklearn.tree import DecisionTreeRegressor\n",
    "from sklearn.ensemble import RandomForestRegressor\n",
    "from sklearn.naive_bayes import GaussianNB\n",
    "from sklearn.metrics import mean_squared_error, mean_absolute_error\n",
    "from sklearn.neighbors import KNeighborsRegressor\n",
    "from sklearn.model_selection import train_test_split, GridSearchCV, KFold, cross_val_score\n"
   ]
  },
  {
   "cell_type": "code",
   "execution_count": 20,
   "metadata": {},
   "outputs": [],
   "source": [
    "def MLmodel(model,Xtrain,Xtest, ytrain,ytest ):\n",
    "    model.fit(Xtrain,ytrain)\n",
    "    pred = model.predict(Xtest)\n",
    "    train = model.score(Xtrain,ytrain)\n",
    "    test = model.score(Xtest,ytest)\n",
    "    \n",
    "#     scores = cross_val_score(model,X,y,cv = 5)\n",
    "#     print('cross validation mean score', scores.mean())\n",
    "    print('train score',train)\n",
    "    print('test score',test)\n",
    "    print('MSE', mean_squared_error(ytest,pred))\n",
    "    print('RMSE',np.sqrt(mean_squared_error(ytest,pred)))\n",
    "    print('MAE', mean_absolute_error(ytest,pred))"
   ]
  },
  {
   "cell_type": "code",
   "execution_count": 21,
   "metadata": {},
   "outputs": [],
   "source": [
    "lr = LinearRegression()"
   ]
  },
  {
   "cell_type": "code",
   "execution_count": 22,
   "metadata": {},
   "outputs": [
    {
     "name": "stdout",
     "output_type": "stream",
     "text": [
      "cross validation mean score -6529.309504231478\n"
     ]
    }
   ],
   "source": [
    "scores = cross_val_score(lr,X,y,cv = 5)\n",
    "print('cross validation mean score', scores.mean())"
   ]
  },
  {
   "cell_type": "code",
   "execution_count": 23,
   "metadata": {},
   "outputs": [],
   "source": [
    "\n",
    "X_train, X_test, y_train,y_test = train_test_split(X,y, test_size = 0.3, random_state = 0)"
   ]
  },
  {
   "cell_type": "code",
   "execution_count": 24,
   "metadata": {},
   "outputs": [
    {
     "name": "stdout",
     "output_type": "stream",
     "text": [
      "train score 0.4521246618699525\n",
      "test score 0.44329336870346703\n",
      "MSE 0.4050325376935213\n",
      "RMSE 0.6364216665808301\n",
      "MAE 0.43804203283086024\n"
     ]
    }
   ],
   "source": [
    "lr = LinearRegression()\n",
    "\n",
    "MLmodel(lr,X_train, X_test, y_train,y_test)"
   ]
  },
  {
   "cell_type": "code",
   "execution_count": 25,
   "metadata": {},
   "outputs": [
    {
     "name": "stdout",
     "output_type": "stream",
     "text": [
      "train score 0.43996227591863957\n",
      "test score 0.43102063806804114\n",
      "MSE 0.4139615767138017\n",
      "RMSE 0.6433984587437257\n",
      "MAE 0.4321209359324506\n"
     ]
    }
   ],
   "source": [
    "dt = DecisionTreeRegressor(max_depth= 3)\n",
    "\n",
    "MLmodel(dt,X_train, X_test, y_train,y_test)"
   ]
  },
  {
   "cell_type": "code",
   "execution_count": 26,
   "metadata": {},
   "outputs": [
    {
     "name": "stdout",
     "output_type": "stream",
     "text": [
      "train score 0.9237268715296377\n",
      "test score 0.6237549205360616\n",
      "MSE 0.273737532055384\n",
      "RMSE 0.523199323446986\n",
      "MAE 0.34446720054006374\n"
     ]
    }
   ],
   "source": [
    "rf = RandomForestRegressor(n_estimators= 5)\n",
    "\n",
    "MLmodel(rf,X_train,X_test,y_train,y_test)"
   ]
  },
  {
   "cell_type": "code",
   "execution_count": 27,
   "metadata": {},
   "outputs": [
    {
     "name": "stdout",
     "output_type": "stream",
     "text": [
      "train score 0.7875424595186846\n",
      "test score 0.31886241726982456\n",
      "MSE 0.4955624167959357\n",
      "RMSE 0.703961942718451\n",
      "MAE 0.47644182429660037\n"
     ]
    }
   ],
   "source": [
    "knn = KNeighborsRegressor(n_neighbors= 2)\n",
    "\n",
    "MLmodel(knn,X_train,X_test,y_train,y_test)"
   ]
  },
  {
   "cell_type": "code",
   "execution_count": 28,
   "metadata": {},
   "outputs": [],
   "source": [
    "nb = GaussianNB()\n",
    "\n",
    "# MLmodel(nb,X_train,X_test,y_train,y_test)\n"
   ]
  },
  {
   "cell_type": "code",
   "execution_count": 29,
   "metadata": {},
   "outputs": [],
   "source": [
    "from sklearn.linear_model import Ridge,Lasso\n"
   ]
  },
  {
   "cell_type": "code",
   "execution_count": 30,
   "metadata": {},
   "outputs": [
    {
     "data": {
      "text/plain": [
       "GridSearchCV(cv=5, error_score='raise-deprecating',\n",
       "             estimator=Ridge(alpha=1.0, copy_X=True, fit_intercept=True,\n",
       "                             max_iter=None, normalize=False, random_state=None,\n",
       "                             solver='auto', tol=0.001),\n",
       "             iid='warn', n_jobs=None,\n",
       "             param_grid={'alpha': array([1.00000000e-03, 2.64105263e-01, 5.27210526e-01, 7.90315789e-01,\n",
       "       1.05342105e+00, 1.31652632e+00, 1.57963158e+00, 1.84273684e+00,\n",
       "       2.10584211e+00, 2.36894737e+00, 2.63205263e+00, 2.89515789e+00,\n",
       "       3.15826316e+00, 3.42136842e+00, 3.68447368e+00, 3.94757895e+00,\n",
       "       4.21068421e+00, 4.47378947e+00, 4.73689474e+00, 5.00000000e+00])},\n",
       "             pre_dispatch='2*n_jobs', refit=True, return_train_score=False,\n",
       "             scoring=None, verbose=0)"
      ]
     },
     "execution_count": 30,
     "metadata": {},
     "output_type": "execute_result"
    }
   ],
   "source": [
    "params = {'alpha': np.linspace(0.001,5,20)}\n",
    "\n",
    "ri = Ridge()\n",
    "\n",
    "gs_ridge = GridSearchCV(ri,params,cv = 5)\n",
    "\n",
    "gs_ridge.fit(X,y)"
   ]
  },
  {
   "cell_type": "code",
   "execution_count": 31,
   "metadata": {},
   "outputs": [
    {
     "data": {
      "text/plain": [
       "Ridge(alpha=5.0, copy_X=True, fit_intercept=True, max_iter=None,\n",
       "      normalize=False, random_state=None, solver='auto', tol=0.001)"
      ]
     },
     "execution_count": 31,
     "metadata": {},
     "output_type": "execute_result"
    }
   ],
   "source": [
    "gs_ridge.best_estimator_"
   ]
  },
  {
   "cell_type": "code",
   "execution_count": 32,
   "metadata": {},
   "outputs": [
    {
     "name": "stdout",
     "output_type": "stream",
     "text": [
      "train score 0.4521236883611505\n",
      "test score 0.44333825517493775\n",
      "MSE 0.40499988049056046\n",
      "RMSE 0.6363960091724024\n",
      "MAE 0.43802333115117525\n"
     ]
    }
   ],
   "source": [
    "ridge = Ridge(alpha=5.0, copy_X=True, fit_intercept=True, max_iter=None,\n",
    "      normalize=False, random_state=0, solver='auto', tol=0.001)\n",
    "\n",
    "MLmodel(ridge,X_train,X_test,y_train,y_test)"
   ]
  },
  {
   "cell_type": "code",
   "execution_count": 33,
   "metadata": {
    "scrolled": true
   },
   "outputs": [],
   "source": [
    "# params = {'alpha': [0.00001,0.0001,0.001,0.01,0.1,0.5]}\n",
    "\n",
    "# la = Lasso()\n",
    "\n",
    "# gs_lasso = GridSearchCV(la,params,cv = 5)\n",
    "\n",
    "# gs_lasso.fit(X,y)"
   ]
  },
  {
   "cell_type": "code",
   "execution_count": 34,
   "metadata": {},
   "outputs": [],
   "source": [
    "# gs_lasso.best_estimator_"
   ]
  },
  {
   "cell_type": "code",
   "execution_count": 35,
   "metadata": {},
   "outputs": [],
   "source": [
    "# lasso = \n",
    "\n",
    "# MLmodel(lasso,X_train,X_test,y_train,y_test)"
   ]
  },
  {
   "cell_type": "code",
   "execution_count": 36,
   "metadata": {},
   "outputs": [
    {
     "name": "stdout",
     "output_type": "stream",
     "text": [
      "Best alpha using built-in LassoCV: 53.205983\n",
      "Best score using built-in LassoCV: 0.000008\n"
     ]
    }
   ],
   "source": [
    "reg = LassoCV()\n",
    "reg.fit(X, y)\n",
    "print(\"Best alpha using built-in LassoCV: %f\" % reg.alpha_)\n",
    "print(\"Best score using built-in LassoCV: %f\" %reg.score(X,y))\n",
    "coef = pd.Series(reg.coef_, index = X.columns)"
   ]
  },
  {
   "cell_type": "code",
   "execution_count": 37,
   "metadata": {},
   "outputs": [
    {
     "name": "stdout",
     "output_type": "stream",
     "text": [
      "Lasso picked 2 variables and eliminated the other 48 variables\n"
     ]
    }
   ],
   "source": [
    "print(\"Lasso picked \" + str(sum(coef != 0)) + \" variables and eliminated the other \" +  str(sum(coef == 0)) + \" variables\")"
   ]
  },
  {
   "cell_type": "code",
   "execution_count": 38,
   "metadata": {},
   "outputs": [
    {
     "data": {
      "text/plain": [
       "Text(0.5, 1.0, 'Feature importance using Lasso Model')"
      ]
     },
     "execution_count": 38,
     "metadata": {},
     "output_type": "execute_result"
    },
    {
     "data": {
      "image/png": "[encoded data removed]",
      "text/plain": [
       "<Figure size 576x720 with 1 Axes>"
      ]
     },
     "metadata": {
      "needs_background": "light"
     },
     "output_type": "display_data"
    }
   ],
   "source": [
    "imp_coef = coef.sort_values()\n",
    "import matplotlib\n",
    "matplotlib.rcParams['figure.figsize'] = (8.0, 10.0)\n",
    "imp_coef.plot(kind = \"barh\")\n",
    "plt.title(\"Feature importance using Lasso Model\")\n"
   ]
  },
  {
   "cell_type": "code",
   "execution_count": 39,
   "metadata": {},
   "outputs": [],
   "source": [
    "import xgboost\n",
    "from sklearn.metrics import explained_variance_score"
   ]
  },
  {
   "cell_type": "code",
   "execution_count": 40,
   "metadata": {},
   "outputs": [],
   "source": [
    "xgb = xgboost.XGBRegressor(n_estimators=250, learning_rate=0.08, gamma=0, subsample=0.75,\n",
    "                           colsample_bytree=1, max_depth=5)"
   ]
  },
  {
   "cell_type": "code",
   "execution_count": 41,
   "metadata": {},
   "outputs": [
    {
     "name": "stdout",
     "output_type": "stream",
     "text": [
      "[19:47:39] WARNING: C:/Jenkins/workspace/xgboost-win64_release_0.90/src/objective/regression_obj.cu:152: reg:linear is now deprecated in favor of reg:squarederror.\n"
     ]
    },
    {
     "data": {
      "text/plain": [
       "XGBRegressor(base_score=0.5, booster='gbtree', colsample_bylevel=1,\n",
       "             colsample_bynode=1, colsample_bytree=1, gamma=0,\n",
       "             importance_type='gain', learning_rate=0.08, max_delta_step=0,\n",
       "             max_depth=5, min_child_weight=1, missing=None, n_estimators=250,\n",
       "             n_jobs=1, nthread=None, objective='reg:linear', random_state=0,\n",
       "             reg_alpha=0, reg_lambda=1, scale_pos_weight=1, seed=None,\n",
       "             silent=None, subsample=0.75, verbosity=1)"
      ]
     },
     "execution_count": 41,
     "metadata": {},
     "output_type": "execute_result"
    }
   ],
   "source": [
    "xgb.fit(X_train,y_train)"
   ]
  },
  {
   "cell_type": "code",
   "execution_count": 42,
   "metadata": {},
   "outputs": [
    {
     "name": "stdout",
     "output_type": "stream",
     "text": [
      "0.7166998567842668\n"
     ]
    }
   ],
   "source": [
    "predictions = xgb.predict(X_test)\n",
    "print(explained_variance_score(y_test,predictions))"
   ]
  },
  {
   "cell_type": "code",
   "execution_count": 43,
   "metadata": {},
   "outputs": [
    {
     "name": "stdout",
     "output_type": "stream",
     "text": [
      "[19:47:51] WARNING: C:/Jenkins/workspace/xgboost-win64_release_0.90/src/objective/regression_obj.cu:152: reg:linear is now deprecated in favor of reg:squarederror.\n",
      "train score 0.841473813137161\n",
      "test score 0.7166935980617501\n",
      "MSE 0.20611989236526393\n",
      "RMSE 0.45400428672564747\n",
      "MAE 0.31297360335207763\n"
     ]
    }
   ],
   "source": [
    "MLmodel(xgb,X_train,X_test,y_train,y_test)   # it got less accuracy"
   ]
  },
  {
   "cell_type": "code",
   "execution_count": 44,
   "metadata": {},
   "outputs": [
    {
     "name": "stdout",
     "output_type": "stream",
     "text": [
      "Accuracy: 71.67%\n"
     ]
    }
   ],
   "source": [
    "accuracy = explained_variance_score(y_test, predictions)\n",
    "print(\"Accuracy: %.2f%%\" % (accuracy * 100.0))"
   ]
  },
  {
   "cell_type": "code",
   "execution_count": 45,
   "metadata": {},
   "outputs": [],
   "source": [
    "from sklearn.ensemble import AdaBoostRegressor"
   ]
  },
  {
   "cell_type": "code",
   "execution_count": 46,
   "metadata": {},
   "outputs": [
    {
     "data": {
      "text/plain": [
       "AdaBoostRegressor(base_estimator=DecisionTreeRegressor(criterion='mse',\n",
       "                                                       max_depth=3,\n",
       "                                                       max_features=None,\n",
       "                                                       max_leaf_nodes=None,\n",
       "                                                       min_impurity_decrease=0.0,\n",
       "                                                       min_impurity_split=None,\n",
       "                                                       min_samples_leaf=1,\n",
       "                                                       min_samples_split=2,\n",
       "                                                       min_weight_fraction_leaf=0.0,\n",
       "                                                       presort=False,\n",
       "                                                       random_state=None,\n",
       "                                                       splitter='best'),\n",
       "                  learning_rate=0.08, loss='linear', n_estimators=20,\n",
       "                  random_state=0)"
      ]
     },
     "execution_count": 46,
     "metadata": {},
     "output_type": "execute_result"
    }
   ],
   "source": [
    "ada_clf=AdaBoostRegressor(dt , learning_rate=0.08, loss='linear',\n",
    "        n_estimators=20, random_state=0)\n",
    "ada_clf.fit(X_train, y_train)"
   ]
  },
  {
   "cell_type": "code",
   "execution_count": 47,
   "metadata": {},
   "outputs": [
    {
     "data": {
      "text/plain": [
       "0.4364604740098087"
      ]
     },
     "execution_count": 47,
     "metadata": {},
     "output_type": "execute_result"
    }
   ],
   "source": [
    "ada_clf.score(X_test, y_test)"
   ]
  },
  {
   "cell_type": "code",
   "execution_count": 48,
   "metadata": {},
   "outputs": [
    {
     "data": {
      "text/plain": [
       "0.4515040602682516"
      ]
     },
     "execution_count": 48,
     "metadata": {},
     "output_type": "execute_result"
    }
   ],
   "source": [
    "ada_clf.score(X_train, y_train)"
   ]
  },
  {
   "cell_type": "markdown",
   "metadata": {},
   "source": [
    "##### Ridge alpha fixing:"
   ]
  },
  {
   "cell_type": "code",
   "execution_count": 49,
   "metadata": {},
   "outputs": [
    {
     "name": "stdout",
     "output_type": "stream",
     "text": [
      "All errors are RMSE\n",
      "----------------------------------------------------------------------------\n",
      "alpha:   0.001 | train error: 0.406 | test error:   0.405 | rmse : 0.636\n",
      "alpha:    0.01 | train error: 0.406 | test error:   0.405 | rmse : 0.636\n",
      "alpha:     0.1 | train error: 0.406 | test error:   0.405 | rmse : 0.636\n",
      "alpha:       1 | train error: 0.406 | test error:   0.405 | rmse : 0.636\n",
      "alpha:       2 | train error: 0.406 | test error:   0.405 | rmse : 0.636\n",
      "alpha:       3 | train error: 0.406 | test error:   0.405 | rmse : 0.636\n",
      "alpha:       5 | train error: 0.406 | test error:   0.405 | rmse : 0.636\n",
      "alpha:       9 | train error: 0.406 | test error:   0.405 | rmse : 0.636\n",
      "alpha:      15 | train error: 0.406 | test error:   0.405 | rmse : 0.636\n",
      "alpha:      30 | train error: 0.406 | test error:   0.405 | rmse : 0.636\n",
      "alpha:     100 | train error: 0.406 | test error:   0.405 | rmse : 0.636\n"
     ]
    }
   ],
   "source": [
    "alphas = [0.001, 0.01, 0.1, 1,2,3, 5,9,15,30,100 ]\n",
    "print('All errors are RMSE')\n",
    "print('-'*76)\n",
    "for alpha in alphas:\n",
    "    # instantiate and fit model\n",
    "    ridge = Ridge(alpha=alpha, fit_intercept=True, random_state=99)\n",
    "    ridge.fit(X_train, y_train)\n",
    "    # calculate errors\n",
    "    new_train_error = mean_squared_error(y_train, ridge.predict(X_train))\n",
    "#     new_validation_error = mean_squared_error(y_validation, ridge.predict(X_validation))\n",
    "    new_test_error = mean_squared_error(y_test, ridge.predict(X_test))\n",
    "    rmse_new = np.sqrt(new_test_error)\n",
    "    # print errors as report\n",
    "    print('alpha: {:7} | train error: {:5} | test error: {:7} | rmse : {}'.\n",
    "          format(alpha,\n",
    "                 round(new_train_error,3),\n",
    "#                  round(new_validation_error,3),\n",
    "                 round(new_test_error,3),\n",
    "           round(rmse_new,3))\n",
    "         )"
   ]
  },
  {
   "cell_type": "code",
   "execution_count": 50,
   "metadata": {},
   "outputs": [
    {
     "name": "stdout",
     "output_type": "stream",
     "text": [
      "train score 0.4521246605865711\n",
      "test score 0.4432928749069531\n",
      "MSE 0.40503289695573214\n",
      "RMSE 0.6364219488324803\n",
      "MAE 0.438041466250019\n"
     ]
    }
   ],
   "source": [
    "# from sklearn.metrics \n",
    "\n",
    "# instantiate model\n",
    "ridge = Ridge(alpha=0.1, fit_intercept=True, random_state=99)\n",
    "\n",
    "# fit and calculate errors\n",
    "MLmodel(ridge,X_train,X_test,y_train,y_test)"
   ]
  },
  {
   "cell_type": "code",
   "execution_count": 51,
   "metadata": {},
   "outputs": [
    {
     "name": "stdout",
     "output_type": "stream",
     "text": [
      "All errors are RMSE\n",
      "----------------------------------------------------------------------------\n",
      "alpha:   1e-05 | train error: 0.406 | test error:   0.405 | rmse : 0.636\n",
      "alpha:  0.0001 | train error: 0.406 | test error:   0.405 | rmse : 0.636\n",
      "alpha:   0.001 | train error: 0.406 | test error:   0.405 | rmse : 0.636\n",
      "alpha:    0.01 | train error: 0.406 | test error:   0.405 | rmse : 0.636\n",
      "alpha:     0.1 | train error: 0.406 | test error:   0.405 | rmse : 0.636\n",
      "alpha:       1 | train error: 0.406 | test error:   0.405 | rmse : 0.636\n",
      "alpha:       2 | train error: 0.406 | test error:   0.405 | rmse : 0.636\n",
      "alpha:       3 | train error: 0.406 | test error:   0.405 | rmse : 0.636\n",
      "alpha:       5 | train error: 0.406 | test error:   0.405 | rmse : 0.636\n",
      "alpha:       9 | train error: 0.406 | test error:   0.405 | rmse : 0.636\n",
      "alpha:      15 | train error: 0.406 | test error:   0.405 | rmse : 0.636\n",
      "alpha:      30 | train error: 0.406 | test error:   0.405 | rmse : 0.636\n",
      "alpha:     100 | train error: 0.406 | test error:   0.405 | rmse : 0.636\n"
     ]
    }
   ],
   "source": [
    "alphas = [0.00001,0.0001,0.001, 0.01, 0.1, 1,2,3, 5,9,15,30,100 ]\n",
    "print('All errors are RMSE')\n",
    "print('-'*76)\n",
    "for alpha in alphas:\n",
    "    # instantiate and fit model\n",
    "    las = Lasso(alpha=alpha, fit_intercept=True, random_state=99)\n",
    "    las.fit(X_train, y_train)\n",
    "    # calculate errors\n",
    "    new_train_error = mean_squared_error(y_train, ridge.predict(X_train))\n",
    "#     new_validation_error = mean_squared_error(y_validation, ridge.predict(X_validation))\n",
    "    new_test_error = mean_squared_error(y_test, ridge.predict(X_test))\n",
    "    rmse_new = np.sqrt(new_test_error)\n",
    "    # print errors as report\n",
    "    print('alpha: {:7} | train error: {:5} | test error: {:7} | rmse : {}'.\n",
    "          format(alpha,\n",
    "                 round(new_train_error,3),\n",
    "#                  round(new_validation_error,3),\n",
    "                 round(new_test_error,3),\n",
    "           round(rmse_new,3))\n",
    "         )"
   ]
  },
  {
   "cell_type": "code",
   "execution_count": 52,
   "metadata": {},
   "outputs": [],
   "source": [
    "# print('ORIGINAL ERROR')\n",
    "# print('-' * 40)\n",
    "# print('train error: {} | test error: {}\\n'.format(train_error, test_error))\n",
    "# print('ERROR w/REGULARIZATION')\n",
    "# print('-' * 40)\n",
    "# print('train error: {} | test error: {}'.format(new_train_error, new_test_error))"
   ]
  },
  {
   "cell_type": "code",
   "execution_count": 53,
   "metadata": {},
   "outputs": [
    {
     "data": {
      "text/plain": [
       "Index(['Unnamed: 0', 'listing_id', 'sentiment_polarity', 'sentiment_sub'], dtype='object')"
      ]
     },
     "execution_count": 53,
     "metadata": {},
     "output_type": "execute_result"
    }
   ],
   "source": [
    "ds.columns"
   ]
  },
  {
   "cell_type": "code",
   "execution_count": 54,
   "metadata": {},
   "outputs": [
    {
     "ename": "KeyError",
     "evalue": "\"['comments' 'len' 'token'] not found in axis\"",
     "output_type": "error",
     "traceback": [
      "\u001b[1;31m---------------------------------------------------------------------------\u001b[0m",
      "\u001b[1;31mKeyError\u001b[0m                                  Traceback (most recent call last)",
      "\u001b[1;32m<ipython-input-54-440e8c373b95>\u001b[0m in \u001b[0;36m<module>\u001b[1;34m\u001b[0m\n\u001b[1;32m----> 1\u001b[1;33m \u001b[0mds\u001b[0m\u001b[1;33m.\u001b[0m\u001b[0mdrop\u001b[0m\u001b[1;33m(\u001b[0m\u001b[1;33m[\u001b[0m\u001b[1;34m'comments'\u001b[0m\u001b[1;33m,\u001b[0m\u001b[1;34m'len'\u001b[0m\u001b[1;33m,\u001b[0m \u001b[1;34m'token'\u001b[0m\u001b[1;33m]\u001b[0m\u001b[1;33m,\u001b[0m\u001b[1;36m1\u001b[0m\u001b[1;33m,\u001b[0m\u001b[0minplace\u001b[0m \u001b[1;33m=\u001b[0m \u001b[1;32mTrue\u001b[0m\u001b[1;33m)\u001b[0m\u001b[1;33m\u001b[0m\u001b[1;33m\u001b[0m\u001b[0m\n\u001b[0m",
      "\u001b[1;32m~\\Anaconda3\\lib\\site-packages\\pandas\\core\\frame.py\u001b[0m in \u001b[0;36mdrop\u001b[1;34m(self, labels, axis, index, columns, level, inplace, errors)\u001b[0m\n\u001b[0;32m   4100\u001b[0m             \u001b[0mlevel\u001b[0m\u001b[1;33m=\u001b[0m\u001b[0mlevel\u001b[0m\u001b[1;33m,\u001b[0m\u001b[1;33m\u001b[0m\u001b[1;33m\u001b[0m\u001b[0m\n\u001b[0;32m   4101\u001b[0m             \u001b[0minplace\u001b[0m\u001b[1;33m=\u001b[0m\u001b[0minplace\u001b[0m\u001b[1;33m,\u001b[0m\u001b[1;33m\u001b[0m\u001b[1;33m\u001b[0m\u001b[0m\n\u001b[1;32m-> 4102\u001b[1;33m             \u001b[0merrors\u001b[0m\u001b[1;33m=\u001b[0m\u001b[0merrors\u001b[0m\u001b[1;33m,\u001b[0m\u001b[1;33m\u001b[0m\u001b[1;33m\u001b[0m\u001b[0m\n\u001b[0m\u001b[0;32m   4103\u001b[0m         )\n\u001b[0;32m   4104\u001b[0m \u001b[1;33m\u001b[0m\u001b[0m\n",
      "\u001b[1;32m~\\Anaconda3\\lib\\site-packages\\pandas\\core\\generic.py\u001b[0m in \u001b[0;36mdrop\u001b[1;34m(self, labels, axis, index, columns, level, inplace, errors)\u001b[0m\n\u001b[0;32m   3912\u001b[0m         \u001b[1;32mfor\u001b[0m \u001b[0maxis\u001b[0m\u001b[1;33m,\u001b[0m \u001b[0mlabels\u001b[0m \u001b[1;32min\u001b[0m \u001b[0maxes\u001b[0m\u001b[1;33m.\u001b[0m\u001b[0mitems\u001b[0m\u001b[1;33m(\u001b[0m\u001b[1;33m)\u001b[0m\u001b[1;33m:\u001b[0m\u001b[1;33m\u001b[0m\u001b[1;33m\u001b[0m\u001b[0m\n\u001b[0;32m   3913\u001b[0m             \u001b[1;32mif\u001b[0m \u001b[0mlabels\u001b[0m \u001b[1;32mis\u001b[0m \u001b[1;32mnot\u001b[0m \u001b[1;32mNone\u001b[0m\u001b[1;33m:\u001b[0m\u001b[1;33m\u001b[0m\u001b[1;33m\u001b[0m\u001b[0m\n\u001b[1;32m-> 3914\u001b[1;33m                 \u001b[0mobj\u001b[0m \u001b[1;33m=\u001b[0m \u001b[0mobj\u001b[0m\u001b[1;33m.\u001b[0m\u001b[0m_drop_axis\u001b[0m\u001b[1;33m(\u001b[0m\u001b[0mlabels\u001b[0m\u001b[1;33m,\u001b[0m \u001b[0maxis\u001b[0m\u001b[1;33m,\u001b[0m \u001b[0mlevel\u001b[0m\u001b[1;33m=\u001b[0m\u001b[0mlevel\u001b[0m\u001b[1;33m,\u001b[0m \u001b[0merrors\u001b[0m\u001b[1;33m=\u001b[0m\u001b[0merrors\u001b[0m\u001b[1;33m)\u001b[0m\u001b[1;33m\u001b[0m\u001b[1;33m\u001b[0m\u001b[0m\n\u001b[0m\u001b[0;32m   3915\u001b[0m \u001b[1;33m\u001b[0m\u001b[0m\n\u001b[0;32m   3916\u001b[0m         \u001b[1;32mif\u001b[0m \u001b[0minplace\u001b[0m\u001b[1;33m:\u001b[0m\u001b[1;33m\u001b[0m\u001b[1;33m\u001b[0m\u001b[0m\n",
      "\u001b[1;32m~\\Anaconda3\\lib\\site-packages\\pandas\\core\\generic.py\u001b[0m in \u001b[0;36m_drop_axis\u001b[1;34m(self, labels, axis, level, errors)\u001b[0m\n\u001b[0;32m   3944\u001b[0m                 \u001b[0mnew_axis\u001b[0m \u001b[1;33m=\u001b[0m \u001b[0maxis\u001b[0m\u001b[1;33m.\u001b[0m\u001b[0mdrop\u001b[0m\u001b[1;33m(\u001b[0m\u001b[0mlabels\u001b[0m\u001b[1;33m,\u001b[0m \u001b[0mlevel\u001b[0m\u001b[1;33m=\u001b[0m\u001b[0mlevel\u001b[0m\u001b[1;33m,\u001b[0m \u001b[0merrors\u001b[0m\u001b[1;33m=\u001b[0m\u001b[0merrors\u001b[0m\u001b[1;33m)\u001b[0m\u001b[1;33m\u001b[0m\u001b[1;33m\u001b[0m\u001b[0m\n\u001b[0;32m   3945\u001b[0m             \u001b[1;32melse\u001b[0m\u001b[1;33m:\u001b[0m\u001b[1;33m\u001b[0m\u001b[1;33m\u001b[0m\u001b[0m\n\u001b[1;32m-> 3946\u001b[1;33m                 \u001b[0mnew_axis\u001b[0m \u001b[1;33m=\u001b[0m \u001b[0maxis\u001b[0m\u001b[1;33m.\u001b[0m\u001b[0mdrop\u001b[0m\u001b[1;33m(\u001b[0m\u001b[0mlabels\u001b[0m\u001b[1;33m,\u001b[0m \u001b[0merrors\u001b[0m\u001b[1;33m=\u001b[0m\u001b[0merrors\u001b[0m\u001b[1;33m)\u001b[0m\u001b[1;33m\u001b[0m\u001b[1;33m\u001b[0m\u001b[0m\n\u001b[0m\u001b[0;32m   3947\u001b[0m             \u001b[0mresult\u001b[0m \u001b[1;33m=\u001b[0m \u001b[0mself\u001b[0m\u001b[1;33m.\u001b[0m\u001b[0mreindex\u001b[0m\u001b[1;33m(\u001b[0m\u001b[1;33m**\u001b[0m\u001b[1;33m{\u001b[0m\u001b[0maxis_name\u001b[0m\u001b[1;33m:\u001b[0m \u001b[0mnew_axis\u001b[0m\u001b[1;33m}\u001b[0m\u001b[1;33m)\u001b[0m\u001b[1;33m\u001b[0m\u001b[1;33m\u001b[0m\u001b[0m\n\u001b[0;32m   3948\u001b[0m \u001b[1;33m\u001b[0m\u001b[0m\n",
      "\u001b[1;32m~\\Anaconda3\\lib\\site-packages\\pandas\\core\\indexes\\base.py\u001b[0m in \u001b[0;36mdrop\u001b[1;34m(self, labels, errors)\u001b[0m\n\u001b[0;32m   5338\u001b[0m         \u001b[1;32mif\u001b[0m \u001b[0mmask\u001b[0m\u001b[1;33m.\u001b[0m\u001b[0many\u001b[0m\u001b[1;33m(\u001b[0m\u001b[1;33m)\u001b[0m\u001b[1;33m:\u001b[0m\u001b[1;33m\u001b[0m\u001b[1;33m\u001b[0m\u001b[0m\n\u001b[0;32m   5339\u001b[0m             \u001b[1;32mif\u001b[0m \u001b[0merrors\u001b[0m \u001b[1;33m!=\u001b[0m \u001b[1;34m\"ignore\"\u001b[0m\u001b[1;33m:\u001b[0m\u001b[1;33m\u001b[0m\u001b[1;33m\u001b[0m\u001b[0m\n\u001b[1;32m-> 5340\u001b[1;33m                 \u001b[1;32mraise\u001b[0m \u001b[0mKeyError\u001b[0m\u001b[1;33m(\u001b[0m\u001b[1;34m\"{} not found in axis\"\u001b[0m\u001b[1;33m.\u001b[0m\u001b[0mformat\u001b[0m\u001b[1;33m(\u001b[0m\u001b[0mlabels\u001b[0m\u001b[1;33m[\u001b[0m\u001b[0mmask\u001b[0m\u001b[1;33m]\u001b[0m\u001b[1;33m)\u001b[0m\u001b[1;33m)\u001b[0m\u001b[1;33m\u001b[0m\u001b[1;33m\u001b[0m\u001b[0m\n\u001b[0m\u001b[0;32m   5341\u001b[0m             \u001b[0mindexer\u001b[0m \u001b[1;33m=\u001b[0m \u001b[0mindexer\u001b[0m\u001b[1;33m[\u001b[0m\u001b[1;33m~\u001b[0m\u001b[0mmask\u001b[0m\u001b[1;33m]\u001b[0m\u001b[1;33m\u001b[0m\u001b[1;33m\u001b[0m\u001b[0m\n\u001b[0;32m   5342\u001b[0m         \u001b[1;32mreturn\u001b[0m \u001b[0mself\u001b[0m\u001b[1;33m.\u001b[0m\u001b[0mdelete\u001b[0m\u001b[1;33m(\u001b[0m\u001b[0mindexer\u001b[0m\u001b[1;33m)\u001b[0m\u001b[1;33m\u001b[0m\u001b[1;33m\u001b[0m\u001b[0m\n",
      "\u001b[1;31mKeyError\u001b[0m: \"['comments' 'len' 'token'] not found in axis\""
     ]
    }
   ],
   "source": [
    "ds.drop(['comments','len', 'token'],1,inplace = True)"
   ]
  },
  {
   "cell_type": "code",
   "execution_count": null,
   "metadata": {},
   "outputs": [],
   "source": [
    "ds.rename(columns = {'sentiment':'sentiment_polarity'}, inplace = True)"
   ]
  },
  {
   "cell_type": "code",
   "execution_count": null,
   "metadata": {},
   "outputs": [],
   "source": [
    "ds.to_csv('senti_analysis.csv')"
   ]
  },
  {
   "cell_type": "code",
   "execution_count": null,
   "metadata": {},
   "outputs": [],
   "source": [
    "das = pd.read_csv('listings_new_senti.csv')"
   ]
  },
  {
   "cell_type": "code",
   "execution_count": null,
   "metadata": {},
   "outputs": [],
   "source": [
    "das.listing_id"
   ]
  },
  {
   "cell_type": "code",
   "execution_count": null,
   "metadata": {},
   "outputs": [],
   "source": [
    "main = pd.concat([das.listing_id,df],1)"
   ]
  },
  {
   "cell_type": "code",
   "execution_count": null,
   "metadata": {},
   "outputs": [],
   "source": [
    "main.listing_id = main.listing_id.astype(int)"
   ]
  },
  {
   "cell_type": "code",
   "execution_count": null,
   "metadata": {},
   "outputs": [],
   "source": [
    "sen = pd.merge(main,ds,'inner','listing_id')"
   ]
  },
  {
   "cell_type": "code",
   "execution_count": null,
   "metadata": {},
   "outputs": [],
   "source": [
    "sen.head()"
   ]
  },
  {
   "cell_type": "code",
   "execution_count": null,
   "metadata": {},
   "outputs": [],
   "source": [
    "sen.to_csv('final_sentiment_csv.csv')"
   ]
  },
  {
   "cell_type": "code",
   "execution_count": 55,
   "metadata": {},
   "outputs": [
    {
     "name": "stdout",
     "output_type": "stream",
     "text": [
      "0.6446339199564817\n",
      "0.6129944553364592\n"
     ]
    }
   ],
   "source": [
    "from sklearn.ensemble import GradientBoostingRegressor\n",
    "grad = GradientBoostingRegressor(learning_rate=0.08)\n",
    "grad.fit(X_train,y_train)\n",
    "print(grad.score(X_train,y_train))\n",
    "print(grad.score(X_test,y_test))"
   ]
  },
  {
   "cell_type": "code",
   "execution_count": 64,
   "metadata": {},
   "outputs": [
    {
     "name": "stdout",
     "output_type": "stream",
     "text": [
      "[23:40:19] WARNING: C:/Jenkins/workspace/xgboost-win64_release_0.90/src/objective/regression_obj.cu:152: reg:linear is now deprecated in favor of reg:squarederror.\n",
      "0.7690449425732677\n",
      "0.6828719487824781\n"
     ]
    }
   ],
   "source": [
    "from sklearn.ensemble import GradientBoostingRegressor,VotingRegressor\n",
    "est = [('Gradboos', grad), ('xgb', xgb)]\n",
    "# weight = \n",
    "\n",
    "vr = VotingRegressor(est)\n",
    "vr.fit(X_train,y_train)\n",
    "print(vr.score(X_train,y_train))\n",
    "print(vr.score(X_test,y_test))"
   ]
  },
  {
   "cell_type": "code",
   "execution_count": 65,
   "metadata": {},
   "outputs": [
    {
     "name": "stdout",
     "output_type": "stream",
     "text": [
      "[23:44:46] WARNING: C:/Jenkins/workspace/xgboost-win64_release_0.90/src/objective/regression_obj.cu:152: reg:linear is now deprecated in favor of reg:squarederror.\n",
      "train score 0.7690449425732678\n",
      "test score 0.6829134878008079\n",
      "MSE 0.2306966496973831\n",
      "RMSE 0.48030891069954457\n",
      "MAE 0.3292274544763853\n"
     ]
    }
   ],
   "source": [
    "MLmodel(vr,X_train,X_test,y_train,y_test)"
   ]
  },
  {
   "cell_type": "markdown",
   "metadata": {},
   "source": [
    "##### Polynomial features`"
   ]
  },
  {
   "cell_type": "code",
   "execution_count": null,
   "metadata": {},
   "outputs": [
    {
     "name": "stdout",
     "output_type": "stream",
     "text": [
      "2\n",
      "train score 0.9177686366078124\n",
      "test score 0.6059043877398644\n",
      "MSE 0.2867247073307833\n",
      "RMSE 0.5354668125390997\n",
      "MAE 0.3644329034675459\n",
      "None\n",
      "3\n"
     ]
    }
   ],
   "source": [
    "from sklearn.preprocessing import PolynomialFeatures\n",
    "for i in [2,3,4,5]:\n",
    "    print(i)\n",
    "    polynomial_features= PolynomialFeatures(degree= i )\n",
    "    x_poly = polynomial_features.fit_transform(X)\n",
    "    X_train_poly, X_test_Poly, y_train_poly, y_test_poly = train_test_split(x_poly, y, test_size = 0.3, random_state = 0 )\n",
    "    print(MLmodel(rf,X_train_poly, X_test_Poly, y_train_poly, y_test_poly ))"
   ]
  },
  {
   "cell_type": "code",
   "execution_count": null,
   "metadata": {},
   "outputs": [],
   "source": []
  }
 ],
 "metadata": {
  "kernelspec": {
   "display_name": "Python 3",
   "language": "python",
   "name": "python3"
  },
  "language_info": {
   "codemirror_mode": {
    "name": "ipython",
    "version": 3
   },
   "file_extension": ".py",
   "mimetype": "text/x-python",
   "name": "python",
   "nbconvert_exporter": "python",
   "pygments_lexer": "ipython3",
   "version": "3.7.6"
  }
 },
 "nbformat": 4,
 "nbformat_minor": 2
}
